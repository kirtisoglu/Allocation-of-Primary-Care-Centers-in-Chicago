{
 "cells": [
  {
   "cell_type": "markdown",
   "metadata": {},
   "source": [
    "# Create a data handler class. Move data and plotting functions in that class."
   ]
  },
  {
   "cell_type": "code",
   "execution_count": 1,
   "metadata": {},
<<<<<<< Updated upstream
   "outputs": [
    {
     "ename": "SyntaxError",
     "evalue": "invalid syntax (__init__.py, line 2)",
     "output_type": "error",
     "traceback": [
      "Traceback \u001b[0;36m(most recent call last)\u001b[0m:\n",
      "\u001b[0m  File \u001b[1;32m~/Library/Python/3.12/lib/python/site-packages/IPython/core/interactiveshell.py:3577\u001b[0m in \u001b[1;35mrun_code\u001b[0m\n    exec(code_obj, self.user_global_ns, self.user_ns)\u001b[0m\n",
      "\u001b[0;36m  Cell \u001b[0;32mIn[1], line 15\u001b[0;36m\n\u001b[0;31m    from data_utils import DataHandler, Plot\u001b[0;36m\n",
      "\u001b[0;36m  File \u001b[0;32m~/Documents/GitHub/Allocation-of-Primary-Care-Centers-in-Chicago/data_utils/__init__.py:2\u001b[0;36m\u001b[0m\n\u001b[0;31m    <<<<<<< Updated upstream\u001b[0m\n\u001b[0m    ^\u001b[0m\n\u001b[0;31mSyntaxError\u001b[0m\u001b[0;31m:\u001b[0m invalid syntax\n"
     ]
    }
   ],
=======
   "outputs": [],
>>>>>>> Stashed changes
   "source": [
    "import pandas as pd\n",
    "import numpy as np\n",
    "import geopandas as gpd\n",
    "import geojson\n",
    "import json\n",
    "import plotly.express as px\n",
    "import matplotlib as plt\n",
    "import random\n",
    "import pickle\n",
    "import networkx as nx\n",
    "\n",
    "from gerrychain import Graph\n",
    "\n",
    "import data\n",
    "from data_utils import DataHandler, Plot\n",
    "from travel_time import traveltime"
   ]
  },
  {
   "cell_type": "code",
   "execution_count": 3,
   "metadata": {},
   "outputs": [
    {
     "data": {
      "text/plain": [
       "'import nbimporter as nbim\\n\\n\\ndef data_processing():\\n    # Define your function here\\n    pass\\n\\n\\n#Constructs a common Python idiom that prevents certain code from being executed when the script is imported as a module in another script. \\n#The code block under this if-statement will only run if the script is executed directly (not when imported).\\n\\n\\nif __name__ == \"__main__\":\\n    # Code inside this block won\\'t run if this notebook is imported using nbimporter\\n    data_processing()\\n    print(\"This prints only if the notebook is executed directly, not when imported.\")\\n    \\n\\n\\n\\nfrom load_data import load_and_preprocess_data, load_cached_data, cache_data\\n\\ncache_path = \\'data_cache.pkl\\'\\ntry:\\n    # Attempt to load cached data\\n    data = load_cached_data(cache_path)\\n    print(\"Loaded data from cache.\")\\nexcept (FileNotFoundError, IOError):\\n    # Load and preprocess data if cache is not available\\n    data = load_and_preprocess_data(\\'your_data.csv\\')\\n    cache_data(data, cache_path)\\n    print(\"Loaded data from source and cached it.\")\\n\\n# Now \\'data\\' is ready to use '"
      ]
     },
     "execution_count": 3,
     "metadata": {},
     "output_type": "execute_result"
    }
   ],
   "source": [
    "\"\"\"import nbimporter as nbim\n",
    "\n",
    "\n",
    "def data_processing():\n",
    "    # Define your function here\n",
    "    pass\n",
    "\n",
    "\n",
    "#Constructs a common Python idiom that prevents certain code from being executed when the script is imported as a module in another script. \n",
    "#The code block under this if-statement will only run if the script is executed directly (not when imported).\n",
    "\n",
    "\n",
    "if __name__ == \"__main__\":\n",
    "    # Code inside this block won't run if this notebook is imported using nbimporter\n",
    "    data_processing()\n",
    "    print(\"This prints only if the notebook is executed directly, not when imported.\")\n",
    "    \n",
    "\n",
    "\n",
    "\n",
    "from load_data import load_and_preprocess_data, load_cached_data, cache_data\n",
    "\n",
    "cache_path = 'data_cache.pkl'\n",
    "try:\n",
    "    # Attempt to load cached data\n",
    "    data = load_cached_data(cache_path)\n",
    "    print(\"Loaded data from cache.\")\n",
    "except (FileNotFoundError, IOError):\n",
    "    # Load and preprocess data if cache is not available\n",
    "    data = load_and_preprocess_data('your_data.csv')\n",
    "    cache_data(data, cache_path)\n",
    "    print(\"Loaded data from source and cached it.\")\n",
    "\n",
    "# Now 'data' is ready to use \"\"\""
   ]
  },
  {
   "cell_type": "code",
   "execution_count": 4,
   "metadata": {},
   "outputs": [],
   "source": [
    "#chicago = gpd.read_file('data/chicago.json')\n",
    "#center_lat, center_lon = projection(chicago)  # see gerrychain library for that function\n",
    "#fig =  plot.fig_blocks(chicago)"
   ]
  },
  {
   "cell_type": "markdown",
   "metadata": {},
   "source": [
    "# Dual Graph of Census Blocks"
   ]
  },
  {
   "cell_type": "code",
   "execution_count": null,
   "metadata": {},
   "outputs": [],
   "source": [
    "\"\"\" We use Gerrychain library to construct a dual graph of Census blocks. \"\"\"\n",
    "\n",
    "#graph = Graph.from_geodataframe(chicago)\n",
    "#nx.draw(graph,pos={node:(graph.nodes()[node]['centroid'].x,graph.nodes()[node]['centroid'].y) for node in graph.nodes()}, node_size=20)\n",
    "#graph.to_json(\"GraphToJson.json\")\n",
    "\n",
    "# graph = Graph.from_json(\"data/GraphToJson.json\")\n",
    "\n",
    "# Opening JSON file\n",
    "#f = open('GraphToJson.json')\n",
    "# returns JSON object as a dictionary\n",
    "#data = json.load(f)\n",
    "#f.close()\n",
    "#data.keys()\n",
    "\n",
    "\"\"\"adjacency = random.choice(list(data['adjacency']))\n",
    "adjacency\"\"\"\n",
    "\n",
    "\"\"\"node = random.choice(list(graph.nodes))\n",
    "graph.nodes[node]['GEOID20'] \"\"\"\n",
    "\n",
    "\"\"\"first_node = list(graph.nodes)[0]\n",
    "node_attributes = graph.nodes[first_node]\n",
    "print(f\"Attributes for node {first_node}: {node_attributes}\")\"\"\"\n",
    "\n",
    "\"\"\" lookup()  #Lookup a node/field attribute. Returns the value of the attribute field at node.\"\"\" "
   ]
  },
  {
   "cell_type": "markdown",
   "metadata": {},
   "source": [
    "- The areas of the polygons are included as node attributes (with key `area`).\n",
    "        \n",
    "- The shared perimeter of neighboring polygons are included as edge attributes (with key `shared_perim`).\n",
    "\n",
    "- Nodes corresponding to polygons on the boundary of the union of all the geometries (e.g., the state, if your dataframe describes VTDs) have a    `boundary_node` attribute (set to `True`) and a `boundary_perim` attribute\n",
    "with the length of this \"exterior\" boundary.\n",
    "\n",
    "- Gerrychain library has centroid function."
   ]
  },
  {
   "cell_type": "markdown",
   "metadata": {},
   "source": [
    "# Get Populations from DHC Data"
   ]
  },
  {
   "cell_type": "code",
   "execution_count": null,
   "metadata": {},
   "outputs": [],
   "source": [
    "#dhc = pd.read_csv('data/dhc_2020.csv')\n",
    "#pop_dict = load.get_column(data = dhc, column = 'TOT_POP')  # returns {key: geoid, value: population}\n",
    "#load.add_to_graph(graph, pop_dict)  # adds 'population' attributes to nodes\n",
    "#load.add_to_data(chicago, pop_dict)"
   ]
  },
  {
   "cell_type": "markdown",
   "metadata": {},
   "source": [
    "See in API that\n",
    "\n",
    "classgerrychain.partition.GeographicPartition\n",
    "\n",
    "crosses_parts(edge: Tuple)→ bool\n",
    "\n",
    "flip(flips: Dict)→ Partition\n",
    "\n",
    "plot(geometries=None, **kwargs)"
   ]
  },
  {
   "cell_type": "markdown",
   "metadata": {},
   "source": [
    "# Generate Random PHCs"
   ]
  },
  {
   "cell_type": "code",
   "execution_count": null,
   "metadata": {},
   "outputs": [],
   "source": [
    "#phc_df, selected_blocks = load.random_phc(chicago)\n",
    "#candidates = load.add_phc(chicago, graph, selected_blocks)\n",
    "#fig = plot.add_phc(fig, phc_df)\n",
    "#fig.show()"
   ]
  },
  {
   "cell_type": "markdown",
   "metadata": {},
   "source": [
    "# Calculate Travel Times"
   ]
  },
  {
   "cell_type": "code",
   "execution_count": null,
   "metadata": {},
   "outputs": [],
   "source": [
    "\"travel_times alculated and saved.\"\n",
    "\n",
    "#for u, v in graph.edges():\n",
    "#    graph[u][v]['time'] = 10\n",
    "#travel_times = travel.travel_time(graph, candidates)"
   ]
  },
  {
   "cell_type": "markdown",
   "metadata": {},
   "source": [
    "# Save Objects"
   ]
  },
  {
   "cell_type": "code",
   "execution_count": null,
   "metadata": {},
   "outputs": [
    {
     "data": {
      "text/plain": [
       "' Surprisingly, it uses only 10MB memory, while GraphToJson.json uses 27MB.'"
      ]
     },
     "execution_count": 16,
     "metadata": {},
     "output_type": "execute_result"
    }
   ],
   "source": [
    "\" 1) Graph is saved as graph.pkl in prepared_data folder.\"\n",
    "# load.cache_data(graph, file_path='prepared_data/graph.pkl', method = 'pickle')  \n",
    "\" Surprisingly, it uses only 10MB memory, while GraphToJson.json uses 27MB.\""
   ]
  },
  {
   "cell_type": "code",
   "execution_count": null,
   "metadata": {},
   "outputs": [],
   "source": [
    "\"\"\" 2) Travel times is saved as travel_times.pkl.gz\n",
    "    ujson is loaded in 35 sec, and uses 140MB \n",
    "    pkl.gz is loaded in 16-17 sec, and uses 130MB memory. \"\"\"\n",
    "# load.cache_data(travel_times, file_path='prepared_data/travel_times.pkl.gz', method = 'pickle_gzip')"
   ]
  },
  {
   "cell_type": "code",
   "execution_count": null,
   "metadata": {},
   "outputs": [],
   "source": [
    "\"\"\" 3) Chicago data is saved as chicago.pkl.\n",
    "    pkl is loaded in 1 sec, and uses 19MB memory. \n",
    "    Original chicago.json file uses 38MB.\n",
    "    I didn't really get it. pkl is better than json in both memory and loading.\"\"\"\n",
    "    \n",
    "# load.cache_data(chicago, file_path='prepared_data/chicago.pkl', method='pickle')"
   ]
  },
  {
   "cell_type": "code",
   "execution_count": null,
   "metadata": {},
   "outputs": [],
   "source": [
    "\"\"\" 4) Possible PHC locations (candidates) are saved as candidates.pkl\"\"\"\n",
    "# load.cache_data(candidates, file_path='prepared_data/candidates.pkl', method='pickle')"
   ]
  },
  {
   "cell_type": "markdown",
   "metadata": {},
   "source": [
    "# Upload Real Libraries and Schools Data (Real Facility Candidates)"
   ]
  },
  {
   "cell_type": "markdown",
   "metadata": {},
   "source": [
    "The coordinates are currently in tuple form inside a string. We need to convert these into a Point geometry object from the shapely.geometry module."
   ]
  },
  {
   "cell_type": "code",
   "execution_count": 2,
   "metadata": {},
   "outputs": [],
   "source": [
    "handler = DataHandler()\n",
    "#vars(handler)"
   ]
  },
  {
   "cell_type": "code",
   "execution_count": 3,
   "metadata": {},
   "outputs": [],
   "source": [
    "chicago = handler.load_chicago()\n",
    "libraries = handler.load_libraries()\n",
    "schools = handler.load_geo_schools ()\n",
    "candidates = handler.load_candidates()"
   ]
  },
  {
   "cell_type": "code",
   "execution_count": null,
   "metadata": {},
   "outputs": [],
   "source": [
    "\"\"\"libraries = gpd.read_file('/Users/kirtisoglu/Documents/GitHub/Allocation-of-Primary-Care-Centers-in-Chicago/data/libraries.csv') \"\"\""
   ]
  },
  {
   "cell_type": "code",
   "execution_count": 5,
   "metadata": {},
   "outputs": [
    {
     "name": "stdout",
     "output_type": "stream",
     "text": [
      "                             NAME   \\\n",
      "0                  Vodak-East Side   \n",
      "1                      Albany Park   \n",
      "2                           Avalon   \n",
      "3                         Brainerd   \n",
      "4   Popular Library at Water Works   \n",
      "..                             ...   \n",
      "76        Woodson Regional Library   \n",
      "77                         Mayfair   \n",
      "78                     Chicago Bee   \n",
      "79                          Uptown   \n",
      "80                    Sherman Park   \n",
      "\n",
      "                                   HOURS OF OPERATION  \\\n",
      "0   Mon. & Wed., Noon-8; Tues. & Thurs., 10-6; Fri...   \n",
      "1   Mon. & Wed., 10-6; Tues. & Thurs., Noon-8; Fri...   \n",
      "2   Mon. & Wed., Noon-8; Tues. & Thurs., 10-6; Fri...   \n",
      "3   Mon. & Wed., 10-6; Tues. & Thurs., Noon-8; Fri...   \n",
      "4    Mon. - Thurs., 10-6; Fri. & Sat., 9-5; Sun., 1-5   \n",
      "..                                                ...   \n",
      "76    Mon. - Thurs., 9-8; Fri. & Sat., 9-5; Sun., 1-5   \n",
      "77  Mon. & Wed., Noon-8; Tues. & Thurs., 10-6; Fri...   \n",
      "78  Mon. & Wed., Noon-8; Tues. & Thurs., 10-6; Fri...   \n",
      "79  Mon. & Wed., 10-6; Tues. & Thurs., Noon-8; Fri...   \n",
      "80  Mon. & Wed., Noon-8; Tues. & Thurs., 10-6; Fri...   \n",
      "\n",
      "                      ADDRESS     CITY STATE    ZIP           PHONE  \\\n",
      "0           3710 E. 106th St.  Chicago    IL  60617  (312) 747-5500   \n",
      "1         3401 W. Foster Ave.  Chicago    IL  60625  (773) 539-5450   \n",
      "2   8148 S. Stony Island Ave.  Chicago    IL  60617  (312) 747-5234   \n",
      "3            1350 W. 89th St.  Chicago    IL  60620  (312) 747-6291   \n",
      "4          163 E. Pearson St.  Chicago    IL  60611  (312) 742-8811   \n",
      "..                        ...      ...   ...    ...             ...   \n",
      "76        9525 S. Halsted St.  Chicago    IL  60628  (312) 747-6900   \n",
      "77      4400 W. Lawrence Ave.  Chicago    IL  60630  (312) 744-1254   \n",
      "78          3647 S. State St.  Chicago    IL  60609  (312) 747-6872   \n",
      "79          929 W. Buena Ave.  Chicago    IL  60613  (312) 744-8400   \n",
      "80        5440 S. Racine Ave.  Chicago    IL  60609  (312) 747-0477   \n",
      "\n",
      "                                    WEBSITE  \\\n",
      "0   https://www.chipublib.org/locations/71/   \n",
      "1    https://www.chipublib.org/locations/3/   \n",
      "2    https://www.chipublib.org/locations/8/   \n",
      "3   https://www.chipublib.org/locations/13/   \n",
      "4   https://www.chipublib.org/locations/73/   \n",
      "..                                      ...   \n",
      "76  https://www.chipublib.org/locations/81/   \n",
      "77  https://www.chipublib.org/locations/49/   \n",
      "78  https://www.chipublib.org/locations/18/   \n",
      "79  https://www.chipublib.org/locations/70/   \n",
      "80  https://www.chipublib.org/locations/64/   \n",
      "\n",
      "                                    LOCATION                    geometry  \n",
      "0    (41.70283443594318, -87.61428978448026)  POINT (-87.61429 41.70283)  \n",
      "1    (41.97557881655979, -87.71361314512697)  POINT (-87.71361 41.97558)  \n",
      "2    (41.746393038286826, -87.5860053710736)  POINT (-87.58601 41.74639)  \n",
      "3    (41.73244482025524, -87.65772892721816)  POINT (-87.65773 41.73244)  \n",
      "4   (41.897484072390675, -87.62337776811282)  POINT (-87.62338 41.89748)  \n",
      "..                                       ...                         ...  \n",
      "76  (41.720694885749005, -87.64304817213312)  POINT (-87.64305 41.72069)  \n",
      "77    (41.968242773953044, -87.737968778247)  POINT (-87.73797 41.96824)  \n",
      "78    (41.82824306445502, -87.6263495444489)  POINT (-87.62635 41.82824)  \n",
      "79   (41.95832305807637, -87.65424744448335)  POINT (-87.65425 41.95832)  \n",
      "80   (41.79476901885989, -87.65502837616037)  POINT (-87.65503 41.79477)  \n",
      "\n",
      "[81 rows x 10 columns]\n"
     ]
    }
   ],
   "source": [
    "from shapely import Point\n",
    "\n",
    "# Convert string to Point geometry\n",
    "def convert_to_point(location_str):\n",
    "    lat, lon = eval(location_str)\n",
    "    return Point(lon, lat)\n",
    "\n",
    "# Apply the conversion function to create the geometry column\n",
    "libraries['geometry'] = libraries['LOCATION'].apply(convert_to_point)\n",
    "\n",
    "# Convert DataFrame to GeoDataFrame\n",
    "geo_libraries = gpd.GeoDataFrame(libraries, geometry='geometry')\n",
    "\n",
    "# Now you can work with `geo_libraries` as a GeoDataFrame\n",
    "print(geo_libraries)"
   ]
  },
  {
   "cell_type": "code",
   "execution_count": 6,
   "metadata": {},
   "outputs": [
    {
     "data": {
      "text/html": [
       "<div>\n",
       "<style scoped>\n",
       "    .dataframe tbody tr th:only-of-type {\n",
       "        vertical-align: middle;\n",
       "    }\n",
       "\n",
       "    .dataframe tbody tr th {\n",
       "        vertical-align: top;\n",
       "    }\n",
       "\n",
       "    .dataframe thead th {\n",
       "        text-align: right;\n",
       "    }\n",
       "</style>\n",
       "<table border=\"1\" class=\"dataframe\">\n",
       "  <thead>\n",
       "    <tr style=\"text-align: right;\">\n",
       "      <th></th>\n",
       "      <th>id</th>\n",
       "      <th>Short_Name</th>\n",
       "      <th>Address</th>\n",
       "      <th>Grades</th>\n",
       "      <th>Lat</th>\n",
       "      <th>Long</th>\n",
       "      <th>COMMAREA</th>\n",
       "      <th>geometry</th>\n",
       "    </tr>\n",
       "  </thead>\n",
       "  <tbody>\n",
       "    <tr>\n",
       "      <th>0</th>\n",
       "      <td>400009</td>\n",
       "      <td>GLOBAL CITIZENSHIP</td>\n",
       "      <td>4647 W 47TH ST</td>\n",
       "      <td>K, 1, 2, 3, 4, 5, 6, 7, 8</td>\n",
       "      <td>41.807579</td>\n",
       "      <td>-87.740097</td>\n",
       "      <td>GARFIELD RIDGE</td>\n",
       "      <td>POINT (-87.74010 41.80758)</td>\n",
       "    </tr>\n",
       "    <tr>\n",
       "      <th>1</th>\n",
       "      <td>400010</td>\n",
       "      <td>ACE TECH HS</td>\n",
       "      <td>5410 S STATE ST</td>\n",
       "      <td>9, 10, 11, 12</td>\n",
       "      <td>41.796122</td>\n",
       "      <td>-87.625849</td>\n",
       "      <td>WASHINGTON PARK</td>\n",
       "      <td>POINT (-87.62585 41.79612)</td>\n",
       "    </tr>\n",
       "    <tr>\n",
       "      <th>2</th>\n",
       "      <td>400011</td>\n",
       "      <td>LOCKE A</td>\n",
       "      <td>3141 W JACKSON BLVD</td>\n",
       "      <td>K, 1, 2, 3, 4, 5, 6, 7, 8</td>\n",
       "      <td>41.877248</td>\n",
       "      <td>-87.705235</td>\n",
       "      <td>EAST GARFIELD PARK</td>\n",
       "      <td>POINT (-87.70523 41.87725)</td>\n",
       "    </tr>\n",
       "    <tr>\n",
       "      <th>3</th>\n",
       "      <td>400013</td>\n",
       "      <td>ASPIRA - EARLY COLLEGE HS</td>\n",
       "      <td>3986 W BARRY AVE</td>\n",
       "      <td>9, 10, 11, 12</td>\n",
       "      <td>41.937298</td>\n",
       "      <td>-87.727096</td>\n",
       "      <td>AVONDALE</td>\n",
       "      <td>POINT (-87.72710 41.93730)</td>\n",
       "    </tr>\n",
       "    <tr>\n",
       "      <th>4</th>\n",
       "      <td>400017</td>\n",
       "      <td>ASPIRA - HAUGAN</td>\n",
       "      <td>3729 W LELAND AVE</td>\n",
       "      <td>6, 7, 8</td>\n",
       "      <td>41.966406</td>\n",
       "      <td>-87.721825</td>\n",
       "      <td>ALBANY PARK</td>\n",
       "      <td>POINT (-87.72182 41.96641)</td>\n",
       "    </tr>\n",
       "  </tbody>\n",
       "</table>\n",
       "</div>"
      ],
      "text/plain": [
       "       id                 Short_Name              Address  \\\n",
       "0  400009         GLOBAL CITIZENSHIP       4647 W 47TH ST   \n",
       "1  400010                ACE TECH HS      5410 S STATE ST   \n",
       "2  400011                    LOCKE A  3141 W JACKSON BLVD   \n",
       "3  400013  ASPIRA - EARLY COLLEGE HS     3986 W BARRY AVE   \n",
       "4  400017            ASPIRA - HAUGAN    3729 W LELAND AVE   \n",
       "\n",
       "                      Grades        Lat       Long            COMMAREA  \\\n",
       "0  K, 1, 2, 3, 4, 5, 6, 7, 8  41.807579 -87.740097      GARFIELD RIDGE   \n",
       "1              9, 10, 11, 12  41.796122 -87.625849     WASHINGTON PARK   \n",
       "2  K, 1, 2, 3, 4, 5, 6, 7, 8  41.877248 -87.705235  EAST GARFIELD PARK   \n",
       "3              9, 10, 11, 12  41.937298 -87.727096            AVONDALE   \n",
       "4                    6, 7, 8  41.966406 -87.721825         ALBANY PARK   \n",
       "\n",
       "                     geometry  \n",
       "0  POINT (-87.74010 41.80758)  \n",
       "1  POINT (-87.62585 41.79612)  \n",
       "2  POINT (-87.70523 41.87725)  \n",
       "3  POINT (-87.72710 41.93730)  \n",
       "4  POINT (-87.72182 41.96641)  "
      ]
     },
     "execution_count": 6,
     "metadata": {},
     "output_type": "execute_result"
    }
   ],
   "source": [
    "schools.head()"
   ]
  },
  {
   "cell_type": "code",
   "execution_count": null,
   "metadata": {},
   "outputs": [],
   "source": [
    "def fig_blocks(data):\n",
    "\n",
    "    data['constant']=2\n",
    "    \n",
    "    fig = px.choropleth_mapbox(\n",
    "        data,\n",
    "        geojson=data.geometry.__geo_interface__,  # Make sure to convert to GeoJSON correctly\n",
    "        locations=data.index,  # Index or any unique identifier\n",
    "        color=\"constant\",  # Use the constant column for coloring\n",
    "        color_discrete_sequence=[\"blue\"],  # This sets the uniform color\n",
    "        mapbox_style=\"open-street-map\",\n",
    "        center={\"lat\": data.geometry.centroid.y.mean(), \"lon\": data.geometry.centroid.x.mean()},\n",
    "        height = 800,\n",
    "        zoom=10,\n",
    "        opacity=0.1,\n",
    "        labels={'constant': 'Label here'},  # Adjust label as needed\n",
    "    )\n",
    "    \n",
    "    return fig\n",
    "\n",
    "\n",
    "def  add_phc(fig, phc_df):\n",
    "    \n",
    "    # Add the PHC locations as a new layer to the map\n",
    "    fig.add_scattermapbox(\n",
    "    lat=phc_df['Lat'],\n",
    "    lon=phc_df['Long'],\n",
    "    mode='markers',\n",
    "    marker=dict(size=5, color='black'))\n",
    "    \n",
    "    return fig\n",
    "\n",
    "fig = fig_blocks(chicago)\n",
    "\n",
    "fig1 = add_phc(fig, schools)\n",
    "fig1.show()"
   ]
  },
  {
   "cell_type": "code",
   "execution_count": null,
   "metadata": {},
   "outputs": [],
   "source": [
    "#candidates = load.add_phc(chicago, graph, selected_blocks)\n",
    "#fig = plot.add_phc(fig, phc_df)\n",
    "#fig.show()"
   ]
  },
  {
   "cell_type": "code",
   "execution_count": 7,
   "metadata": {},
   "outputs": [
    {
     "data": {
      "text/plain": [
       "{'boundary_node': False,\n",
       " 'area': 5.215014999926553e-07,\n",
       " 'STATEFP20': '17',\n",
       " 'COUNTYFP20': '031',\n",
       " 'TRACTCE20': '160800',\n",
       " 'BLOCKCE20': '4011',\n",
       " 'GEOID20': '170311608004011',\n",
       " 'ALAND20': 4803,\n",
       " 'C_X': -87.71486363395856,\n",
       " 'C_Y': 41.95047205837281,\n",
       " 'pop': 27,\n",
       " 'phc': 0}"
      ]
     },
     "execution_count": 7,
     "metadata": {},
     "output_type": "execute_result"
    }
   ],
   "source": [
    "graph = handler.load_graph()\n",
    "\n",
    "node = random.choice(list(graph.nodes))\n",
    "graph.nodes[node]"
   ]
  },
  {
   "cell_type": "code",
   "execution_count": 8,
   "metadata": {},
   "outputs": [
    {
     "data": {
      "text/html": [
       "<div>\n",
       "<style scoped>\n",
       "    .dataframe tbody tr th:only-of-type {\n",
       "        vertical-align: middle;\n",
       "    }\n",
       "\n",
       "    .dataframe tbody tr th {\n",
       "        vertical-align: top;\n",
       "    }\n",
       "\n",
       "    .dataframe thead th {\n",
       "        text-align: right;\n",
       "    }\n",
       "</style>\n",
       "<table border=\"1\" class=\"dataframe\">\n",
       "  <thead>\n",
       "    <tr style=\"text-align: right;\">\n",
       "      <th></th>\n",
       "      <th>id</th>\n",
       "      <th>STATEFP20</th>\n",
       "      <th>COUNTYFP20</th>\n",
       "      <th>TRACTCE20</th>\n",
       "      <th>BLOCKCE20</th>\n",
       "      <th>GEOID20</th>\n",
       "      <th>NAME20</th>\n",
       "      <th>MTFCC20</th>\n",
       "      <th>UR20</th>\n",
       "      <th>UACE20</th>\n",
       "      <th>...</th>\n",
       "      <th>FUNCSTAT20</th>\n",
       "      <th>ALAND20</th>\n",
       "      <th>AWATER20</th>\n",
       "      <th>INTPTLAT20</th>\n",
       "      <th>INTPTLON20</th>\n",
       "      <th>geometry</th>\n",
       "      <th>centroid</th>\n",
       "      <th>constant</th>\n",
       "      <th>pop</th>\n",
       "      <th>phc</th>\n",
       "    </tr>\n",
       "  </thead>\n",
       "  <tbody>\n",
       "    <tr>\n",
       "      <th>0</th>\n",
       "      <td>22984</td>\n",
       "      <td>17</td>\n",
       "      <td>043</td>\n",
       "      <td>840000</td>\n",
       "      <td>2019</td>\n",
       "      <td>170438400002019</td>\n",
       "      <td>Block 2019</td>\n",
       "      <td>G5040</td>\n",
       "      <td>R</td>\n",
       "      <td></td>\n",
       "      <td>...</td>\n",
       "      <td>S</td>\n",
       "      <td>39074</td>\n",
       "      <td>0</td>\n",
       "      <td>+41.9862251</td>\n",
       "      <td>-087.9375858</td>\n",
       "      <td>POLYGON ((-87.93907 41.98668, -87.93906 41.985...</td>\n",
       "      <td>POINT (-87.93759 41.98623)</td>\n",
       "      <td>2</td>\n",
       "      <td>0.0</td>\n",
       "      <td>0</td>\n",
       "    </tr>\n",
       "    <tr>\n",
       "      <th>1</th>\n",
       "      <td>22985</td>\n",
       "      <td>17</td>\n",
       "      <td>043</td>\n",
       "      <td>840000</td>\n",
       "      <td>2001</td>\n",
       "      <td>170438400002001</td>\n",
       "      <td>Block 2001</td>\n",
       "      <td>G5040</td>\n",
       "      <td>R</td>\n",
       "      <td></td>\n",
       "      <td>...</td>\n",
       "      <td>S</td>\n",
       "      <td>0</td>\n",
       "      <td>12850</td>\n",
       "      <td>+41.9880794</td>\n",
       "      <td>-087.9352896</td>\n",
       "      <td>POLYGON ((-87.93907 41.98671, -87.93907 41.986...</td>\n",
       "      <td>POINT (-87.93529 41.98808)</td>\n",
       "      <td>2</td>\n",
       "      <td>0.0</td>\n",
       "      <td>0</td>\n",
       "    </tr>\n",
       "    <tr>\n",
       "      <th>2</th>\n",
       "      <td>22986</td>\n",
       "      <td>17</td>\n",
       "      <td>043</td>\n",
       "      <td>840000</td>\n",
       "      <td>2020</td>\n",
       "      <td>170438400002020</td>\n",
       "      <td>Block 2020</td>\n",
       "      <td>G5040</td>\n",
       "      <td>R</td>\n",
       "      <td></td>\n",
       "      <td>...</td>\n",
       "      <td>S</td>\n",
       "      <td>22015</td>\n",
       "      <td>0</td>\n",
       "      <td>+41.9846582</td>\n",
       "      <td>-087.9380860</td>\n",
       "      <td>POLYGON ((-87.93906 41.98510, -87.93906 41.985...</td>\n",
       "      <td>POINT (-87.93809 41.98466)</td>\n",
       "      <td>2</td>\n",
       "      <td>0.0</td>\n",
       "      <td>0</td>\n",
       "    </tr>\n",
       "    <tr>\n",
       "      <th>3</th>\n",
       "      <td>22987</td>\n",
       "      <td>17</td>\n",
       "      <td>043</td>\n",
       "      <td>840000</td>\n",
       "      <td>2017</td>\n",
       "      <td>170438400002017</td>\n",
       "      <td>Block 2017</td>\n",
       "      <td>G5040</td>\n",
       "      <td>R</td>\n",
       "      <td></td>\n",
       "      <td>...</td>\n",
       "      <td>S</td>\n",
       "      <td>3015</td>\n",
       "      <td>0</td>\n",
       "      <td>+41.9866580</td>\n",
       "      <td>-087.9434952</td>\n",
       "      <td>POLYGON ((-87.94017 41.98669, -87.94020 41.986...</td>\n",
       "      <td>POINT (-87.94350 41.98666)</td>\n",
       "      <td>2</td>\n",
       "      <td>0.0</td>\n",
       "      <td>0</td>\n",
       "    </tr>\n",
       "    <tr>\n",
       "      <th>4</th>\n",
       "      <td>22989</td>\n",
       "      <td>17</td>\n",
       "      <td>043</td>\n",
       "      <td>840000</td>\n",
       "      <td>2021</td>\n",
       "      <td>170438400002021</td>\n",
       "      <td>Block 2021</td>\n",
       "      <td>G5040</td>\n",
       "      <td>R</td>\n",
       "      <td></td>\n",
       "      <td>...</td>\n",
       "      <td>S</td>\n",
       "      <td>33305</td>\n",
       "      <td>235</td>\n",
       "      <td>+41.9785082</td>\n",
       "      <td>-087.9395576</td>\n",
       "      <td>POLYGON ((-87.93978 41.98381, -87.93978 41.983...</td>\n",
       "      <td>POINT (-87.93956 41.97854)</td>\n",
       "      <td>2</td>\n",
       "      <td>0.0</td>\n",
       "      <td>0</td>\n",
       "    </tr>\n",
       "  </tbody>\n",
       "</table>\n",
       "<p>5 rows × 21 columns</p>\n",
       "</div>"
      ],
      "text/plain": [
       "      id STATEFP20 COUNTYFP20 TRACTCE20 BLOCKCE20          GEOID20  \\\n",
       "0  22984        17        043    840000      2019  170438400002019   \n",
       "1  22985        17        043    840000      2001  170438400002001   \n",
       "2  22986        17        043    840000      2020  170438400002020   \n",
       "3  22987        17        043    840000      2017  170438400002017   \n",
       "4  22989        17        043    840000      2021  170438400002021   \n",
       "\n",
       "       NAME20 MTFCC20 UR20 UACE20  ... FUNCSTAT20 ALAND20  AWATER20  \\\n",
       "0  Block 2019   G5040    R         ...          S   39074         0   \n",
       "1  Block 2001   G5040    R         ...          S       0     12850   \n",
       "2  Block 2020   G5040    R         ...          S   22015         0   \n",
       "3  Block 2017   G5040    R         ...          S    3015         0   \n",
       "4  Block 2021   G5040    R         ...          S   33305       235   \n",
       "\n",
       "    INTPTLAT20    INTPTLON20  \\\n",
       "0  +41.9862251  -087.9375858   \n",
       "1  +41.9880794  -087.9352896   \n",
       "2  +41.9846582  -087.9380860   \n",
       "3  +41.9866580  -087.9434952   \n",
       "4  +41.9785082  -087.9395576   \n",
       "\n",
       "                                            geometry  \\\n",
       "0  POLYGON ((-87.93907 41.98668, -87.93906 41.985...   \n",
       "1  POLYGON ((-87.93907 41.98671, -87.93907 41.986...   \n",
       "2  POLYGON ((-87.93906 41.98510, -87.93906 41.985...   \n",
       "3  POLYGON ((-87.94017 41.98669, -87.94020 41.986...   \n",
       "4  POLYGON ((-87.93978 41.98381, -87.93978 41.983...   \n",
       "\n",
       "                     centroid constant  pop  phc  \n",
       "0  POINT (-87.93759 41.98623)        2  0.0    0  \n",
       "1  POINT (-87.93529 41.98808)        2  0.0    0  \n",
       "2  POINT (-87.93809 41.98466)        2  0.0    0  \n",
       "3  POINT (-87.94350 41.98666)        2  0.0    0  \n",
       "4  POINT (-87.93956 41.97854)        2  0.0    0  \n",
       "\n",
       "[5 rows x 21 columns]"
      ]
     },
     "execution_count": 8,
     "metadata": {},
     "output_type": "execute_result"
    }
   ],
   "source": [
    "chicago.head()"
   ]
  },
  {
   "cell_type": "code",
   "execution_count": 9,
   "metadata": {},
   "outputs": [
    {
     "data": {
      "text/plain": [
       "0         22984\n",
       "1         22985\n",
       "2         22986\n",
       "3         22987\n",
       "4         22989\n",
       "          ...  \n",
       "39516    362595\n",
       "39517    362596\n",
       "39518    362732\n",
       "39519    363152\n",
       "39520    363197\n",
       "Name: id, Length: 39521, dtype: object"
      ]
     },
     "execution_count": 9,
     "metadata": {},
     "output_type": "execute_result"
    }
   ],
   "source": [
    "chicago['id']"
   ]
  },
  {
   "cell_type": "code",
   "execution_count": 10,
   "metadata": {},
   "outputs": [],
   "source": [
    "from shapely.geometry import Point, Polygon"
   ]
  },
  {
   "cell_type": "code",
   "execution_count": 11,
   "metadata": {},
   "outputs": [],
   "source": [
    "geometries = {}\n",
    "for index, row in chicago.iterrows():\n",
    "    geometries[index] = row['geometry']"
   ]
  },
  {
   "cell_type": "code",
   "execution_count": 12,
   "metadata": {},
   "outputs": [],
   "source": [
    "for node in graph.nodes:\n",
    "    # Check if the node exists in the geometries dictionary\n",
    "    if node in geometries:\n",
    "        if any(geometries[node].contains(point) for point in schools['geometry']):\n",
    "            graph.nodes[node]['real_phc'] = True\n",
    "        else:\n",
    "            graph.nodes[node]['real_phc'] = False\n",
    "    else:\n",
    "        # Handle the case where no geometry is defined for the node\n",
    "        graph.nodes[node]['real_phc'] = False\n",
    "        print(f\"No geometry found for node {node}\")\n"
   ]
  },
  {
   "cell_type": "code",
   "execution_count": 13,
   "metadata": {},
   "outputs": [],
   "source": [
    "# Node shapely geometry\n",
    "for node in graph.nodes:\n",
    "        \n",
    "    if any(geometries[node].contains(point) for point in geo_libraries['geometry']):\n",
    "        graph.nodes[node]['real_phc'] = True"
   ]
  },
  {
   "cell_type": "code",
   "execution_count": 14,
   "metadata": {},
   "outputs": [
    {
     "data": {
      "text/plain": [
       "693"
      ]
     },
     "execution_count": 14,
     "metadata": {},
     "output_type": "execute_result"
    }
   ],
   "source": [
    "count = 0 \n",
    "for node in graph.nodes:\n",
    "    if graph.nodes[node]['real_phc']==True:\n",
    "        count+=1\n",
    "        \n",
    "count"
   ]
  },
  {
   "cell_type": "code",
   "execution_count": 13,
   "metadata": {},
   "outputs": [
    {
     "data": {
      "text/plain": [
       "{'boundary_node': False,\n",
       " 'area': 7.904144999979941e-07,\n",
       " 'STATEFP20': '17',\n",
       " 'COUNTYFP20': '031',\n",
       " 'TRACTCE20': '840200',\n",
       " 'BLOCKCE20': '1041',\n",
       " 'GEOID20': '170318402001041',\n",
       " 'ALAND20': 7291,\n",
       " 'C_X': -87.6424472502809,\n",
       " 'C_Y': 41.845612936281114,\n",
       " 'pop': 67,\n",
       " 'phc': 0,\n",
       " 'real_phc': False}"
      ]
     },
     "execution_count": 13,
     "metadata": {},
     "output_type": "execute_result"
    }
   ],
   "source": [
    "node = random.choice(list(graph.nodes))\n",
    "graph.nodes[node]"
   ]
  },
  {
   "cell_type": "code",
   "execution_count": 24,
   "metadata": {},
   "outputs": [],
   "source": [
    "del geo_libraries['WEBSITE']"
   ]
  },
  {
   "cell_type": "code",
   "execution_count": 25,
   "metadata": {},
   "outputs": [
    {
     "data": {
      "text/html": [
       "<div>\n",
       "<style scoped>\n",
       "    .dataframe tbody tr th:only-of-type {\n",
       "        vertical-align: middle;\n",
       "    }\n",
       "\n",
       "    .dataframe tbody tr th {\n",
       "        vertical-align: top;\n",
       "    }\n",
       "\n",
       "    .dataframe thead th {\n",
       "        text-align: right;\n",
       "    }\n",
       "</style>\n",
       "<table border=\"1\" class=\"dataframe\">\n",
       "  <thead>\n",
       "    <tr style=\"text-align: right;\">\n",
       "      <th></th>\n",
       "      <th>NAME</th>\n",
       "      <th>ADDRESS</th>\n",
       "      <th>LOCATION</th>\n",
       "      <th>geometry</th>\n",
       "    </tr>\n",
       "  </thead>\n",
       "  <tbody>\n",
       "    <tr>\n",
       "      <th>0</th>\n",
       "      <td>Vodak-East Side</td>\n",
       "      <td>3710 E. 106th St.</td>\n",
       "      <td>(41.70283443594318, -87.61428978448026)</td>\n",
       "      <td>POINT (-87.61429 41.70283)</td>\n",
       "    </tr>\n",
       "    <tr>\n",
       "      <th>1</th>\n",
       "      <td>Albany Park</td>\n",
       "      <td>3401 W. Foster Ave.</td>\n",
       "      <td>(41.97557881655979, -87.71361314512697)</td>\n",
       "      <td>POINT (-87.71361 41.97558)</td>\n",
       "    </tr>\n",
       "    <tr>\n",
       "      <th>2</th>\n",
       "      <td>Avalon</td>\n",
       "      <td>8148 S. Stony Island Ave.</td>\n",
       "      <td>(41.746393038286826, -87.5860053710736)</td>\n",
       "      <td>POINT (-87.58601 41.74639)</td>\n",
       "    </tr>\n",
       "    <tr>\n",
       "      <th>3</th>\n",
       "      <td>Brainerd</td>\n",
       "      <td>1350 W. 89th St.</td>\n",
       "      <td>(41.73244482025524, -87.65772892721816)</td>\n",
       "      <td>POINT (-87.65773 41.73244)</td>\n",
       "    </tr>\n",
       "    <tr>\n",
       "      <th>4</th>\n",
       "      <td>Popular Library at Water Works</td>\n",
       "      <td>163 E. Pearson St.</td>\n",
       "      <td>(41.897484072390675, -87.62337776811282)</td>\n",
       "      <td>POINT (-87.62338 41.89748)</td>\n",
       "    </tr>\n",
       "  </tbody>\n",
       "</table>\n",
       "</div>"
      ],
      "text/plain": [
       "                            NAME                     ADDRESS  \\\n",
       "0                 Vodak-East Side          3710 E. 106th St.   \n",
       "1                     Albany Park        3401 W. Foster Ave.   \n",
       "2                          Avalon  8148 S. Stony Island Ave.   \n",
       "3                        Brainerd           1350 W. 89th St.   \n",
       "4  Popular Library at Water Works         163 E. Pearson St.   \n",
       "\n",
       "                                   LOCATION                    geometry  \n",
       "0   (41.70283443594318, -87.61428978448026)  POINT (-87.61429 41.70283)  \n",
       "1   (41.97557881655979, -87.71361314512697)  POINT (-87.71361 41.97558)  \n",
       "2   (41.746393038286826, -87.5860053710736)  POINT (-87.58601 41.74639)  \n",
       "3   (41.73244482025524, -87.65772892721816)  POINT (-87.65773 41.73244)  \n",
       "4  (41.897484072390675, -87.62337776811282)  POINT (-87.62338 41.89748)  "
      ]
     },
     "execution_count": 25,
     "metadata": {},
     "output_type": "execute_result"
    }
   ],
   "source": [
    "geo_libraries.head()"
   ]
  },
  {
   "cell_type": "code",
   "execution_count": 26,
   "metadata": {},
   "outputs": [],
   "source": [
    "file_path = '/Users/kirtisoglu/Documents/GitHub/Allocation-of-Primary-Care-Centers-in-Chicago/prepared_data/geo_libraries.pkl'\n",
    "with open(file_path, 'wb') as file:\n",
    "                pickle.dump(geo_libraries, file)"
   ]
  },
  {
   "cell_type": "code",
   "execution_count": 17,
   "metadata": {},
   "outputs": [],
   "source": [
    "file_path = '/Users/kirtisoglu/Documents/GitHub/Allocation-of-Primary-Care-Centers-in-Chicago/prepared_data/geometries.pkl'\n",
    "with open(file_path, 'wb') as file:\n",
    "                pickle.dump(geometries, file)"
   ]
  }
 ],
 "metadata": {
  "kernelspec": {
   "display_name": "Python 3",
   "language": "python",
   "name": "python3"
  },
  "language_info": {
   "codemirror_mode": {
    "name": "ipython",
    "version": 3
   },
   "file_extension": ".py",
   "mimetype": "text/x-python",
   "name": "python",
   "nbconvert_exporter": "python",
   "pygments_lexer": "ipython3",
   "version": "3.12.2"
  }
 },
 "nbformat": 4,
 "nbformat_minor": 2
}
