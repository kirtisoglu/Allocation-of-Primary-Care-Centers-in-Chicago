{
 "cells": [
  {
   "cell_type": "code",
   "execution_count": 1,
   "metadata": {},
   "outputs": [],
   "source": [
    "import matplotlib.pyplot as mplt\n",
    "import pandas as pd\n",
    "import numpy as np\n",
    "import geopandas as gpd\n",
    "\n",
    "import cProfile\n",
    "import pstats\n",
    "\n",
    "from functools import partial\n",
    "from types import MappingProxyType\n",
    "#from tqdm import tqdm\n",
    "\n",
    "from helper import DataHandler, Plot, plot_grid\n",
    "from functools import partial\n",
    "from functools import partial\n",
    "\n",
    "from partition import Partition, Tally, Assignment\n",
    "from grid import Grid\n",
    "from markovchain import SingleMetricOptimizer, hierarchical_recom\n",
    "import constraints"
   ]
  },
  {
   "cell_type": "code",
   "execution_count": 2,
   "metadata": {},
   "outputs": [],
   "source": [
    "\"Load data\"\n",
    "\n",
    "handler = DataHandler()\n",
    "graph = handler.load_graph()\n",
    "chicago = handler.load_chicago()\n",
    "candidates = handler.load_candidates()  # set of nodes\n",
    "geo_centers = handler.load_geo_centers()\n",
    "geo_candidates = handler.load_geo_candidates()\n",
    "#travel_times_walking = handler.load_travel_walking()\n",
    "#travel_times = handler.load_travel_times() # travel time between blocks is 10 minutes\n",
    "newtravel = handler.load_newtravel()\n",
    "geometries = handler.load_geometries()\n",
    "plt = Plot()"
   ]
  },
  {
   "cell_type": "code",
   "execution_count": 3,
   "metadata": {},
   "outputs": [],
   "source": [
    "from graph import Graph\n",
    "import networkx as nx\n",
    "\n",
    "\"\"\"Returns a tree that looks like this:\n",
    "\n",
    "1 - 2 - 3 - 4\n",
    "    |       |\n",
    "5 - 6 - 7   8 - 9 - 10\n",
    "|       |       |\n",
    "11-12   13      14\n",
    "|\n",
    "15-16-17\n",
    "|\n",
    "18-19\n",
    "|\n",
    "20\n",
    "\n",
    "\"\"\"\n",
    "tree = Graph()\n",
    "tree.add_edges_from(\n",
    "    [\n",
    "        (1, 2),(2, 3),(3, 4),\n",
    "        (2, 6),(4, 8),\n",
    "        (5, 6),(6, 7),(8, 9),(9, 10),\n",
    "        (5, 11),(7, 13),(9, 14),\n",
    "        (11, 12),\n",
    "        (11, 15),\n",
    "        (15, 16),(16, 17),\n",
    "        (15, 18),\n",
    "        (18, 19),\n",
    "        (18, 20),\n",
    "    ]\n",
    ")    \n"
   ]
  },
  {
   "cell_type": "code",
   "execution_count": 11,
   "metadata": {},
   "outputs": [],
   "source": [
    "def find_successors(tree, root):\n",
    "    return {a: b for a, b in nx.bfs_successors(tree, root)}\n",
    "    \n",
    "\n",
    "succ = find_successors(tree, 2)\n",
    "\n",
    "from tree import _part_nodes, compute_subtree_nodes"
   ]
  },
  {
   "cell_type": "code",
   "execution_count": 22,
   "metadata": {},
   "outputs": [],
   "source": [
    "from tree import random_spanning_tree\n",
    "\n",
    "random_tree = random_spanning_tree(graph)"
   ]
  },
  {
   "cell_type": "code",
   "execution_count": 23,
   "metadata": {},
   "outputs": [],
   "source": [
    "part_nodes = {}\n",
    "\n",
    "for node in random_tree.nodes:\n",
    "    part_nodes[node] = _part_nodes(succ, node)"
   ]
  },
  {
   "cell_type": "code",
   "execution_count": null,
   "metadata": {},
   "outputs": [],
   "source": [
    "part_nodes"
   ]
  },
  {
   "cell_type": "code",
   "execution_count": 24,
   "metadata": {},
   "outputs": [
    {
     "data": {
      "text/plain": [
       "{1: {1},\n",
       " 10: {10},\n",
       " 14: {14},\n",
       " 9: {9, 10, 14},\n",
       " 8: {8, 9, 10, 14},\n",
       " 4: {4, 8, 9, 10, 14},\n",
       " 3: {3, 4, 8, 9, 10, 14},\n",
       " 12: {12},\n",
       " 17: {17},\n",
       " 16: {16, 17},\n",
       " 19: {19},\n",
       " 20: {20},\n",
       " 18: {18, 19, 20},\n",
       " 15: {15, 16, 17, 18, 19, 20},\n",
       " 11: {11, 12, 15, 16, 17, 18, 19, 20},\n",
       " 5: {5, 11, 12, 15, 16, 17, 18, 19, 20},\n",
       " 13: {13},\n",
       " 7: {7, 13},\n",
       " 6: {5, 6, 7, 11, 12, 13, 15, 16, 17, 18, 19, 20},\n",
       " 2: {1, 2, 3, 4, 5, 6, 7, 8, 9, 10, 11, 12, 13, 14, 15, 16, 17, 18, 19, 20}}"
      ]
     },
     "execution_count": 24,
     "metadata": {},
     "output_type": "execute_result"
    }
   ],
   "source": [
    "nodes = compute_subtree_nodes(random_tree, succ, 2)\n",
    "nodes"
   ]
  },
  {
   "cell_type": "code",
   "execution_count": null,
   "metadata": {},
   "outputs": [],
   "source": [
    "grid_opposite = Grid(dimensions=(20,20), num_candidates=50, density='opposite', threshold=(10,10))\n",
    "graph_opposite = grid_opposite.graph\n",
    "plot_grid(grid_opposite.graph)"
   ]
  },
  {
   "cell_type": "code",
   "execution_count": null,
   "metadata": {},
   "outputs": [],
   "source": [
    "# Define a wrapper function for profiling\n",
    "def run_partition(newtravel):\n",
    "    \"Initial partition\"\n",
    "    pop = sum(graph.nodes[node]['pop'] for node in graph.nodes)\n",
    "    #area = sum(graph.nodes[node]['area'] for node in graph.nodes)   \n",
    "    #avg_density = area / pop\n",
    "    # nodelarin density check i burda yapilip sonuc attribute olarak atansin. Attribute ismi simdilik density\n",
    "    #check_density = ?\n",
    "    Assignment.travel_times = MappingProxyType(newtravel)\n",
    "    column_names = ['pop', 'area', 'real_phc', 'avg_density']\n",
    "    \n",
    "    initial_solution = Partition.from_random_assignment(\n",
    "    graph=graph, \n",
    "    assignment_class=Assignment,\n",
    "    capacity_level = 1,\n",
    "    epsilon=0.01,\n",
    "    pop_target = pop // 100,\n",
    "    column_names = column_names,\n",
    "    #density = 0.5\n",
    "    )\n",
    "    return initial_solution\n",
    "\n",
    "\n",
    "cProfile.run('run_partition(newtravel)', 'profile_output')\n",
    "\n",
    "\n",
    "p = pstats.Stats('profile_output')\n",
    "p.strip_dirs()           # Optional: clean up file paths for readability\n",
    "p.sort_stats('cumulative')  # Sort by cumulative time or choose 'time', 'calls', etc.\n",
    "p.print_stats(20)  "
   ]
  },
  {
   "cell_type": "code",
   "execution_count": null,
   "metadata": {},
   "outputs": [],
   "source": [
    "\"Initial partition\"\n",
    "pop = sum(graph.nodes[node]['population'] for node in graph.nodes)\n",
    "#area = sum(graph.nodes[node]['area'] for node in graph.nodes)   \n",
    "#avg_density = area / pop\n",
    "# nodelarin density check i burda yapilip sonuc attribute olarak atansin. Attribute ismi simdilik density\n",
    "#check_density = ?\n",
    "Assignment.travel_times = MappingProxyType(newtravel)\n",
    "column_names = ['population', 'area', 'candidate', 'density']\n",
    "\n",
    "initial_solution = Partition.from_random_assignment(\n",
    "graph=graph, \n",
    "assignment_class=Assignment,\n",
    "capacity_level = 1,\n",
    "epsilon=0.005,\n",
    "pop_target = pop // 100,\n",
    "column_names = column_names,\n",
    "#density = 0.5\n",
    ")"
   ]
  },
  {
   "cell_type": "code",
   "execution_count": null,
   "metadata": {},
   "outputs": [],
   "source": [
    "\"Plot initial partition\"\n",
    "#m, regions, chicago, geocenters = initial_solution.plot_map(attr=\"district\")\n",
    "#m\n",
    "\n",
    "\"Plot side by side\"\n",
    "fig, regions_initial_new, regions_final_new, centers, others = plt.compare(initial_solution, initial_solution)\n",
    "fig"
   ]
  },
  {
   "cell_type": "code",
   "execution_count": 16,
   "metadata": {},
   "outputs": [],
   "source": [
    "m.save(\"map0.html\")"
   ]
  },
  {
   "cell_type": "code",
   "execution_count": null,
   "metadata": {},
   "outputs": [],
   "source": [
    "\n",
    "\"Proposal and constraints\"   # See how we call this in optimizer. \n",
    "proposal = partial(\n",
    "    hierarchical_recom,\n",
    "    pop_target = pop // 100,\n",
    "    column_names = column_names,\n",
    "    epsilon=0.02,\n",
    "    density = None)\n",
    "constraints = constraints.within_percent_of_ideal_population(initial_solution)"
   ]
  },
  {
   "cell_type": "code",
   "execution_count": 5,
   "metadata": {},
   "outputs": [],
   "source": [
    "\"Optimizer\"\n",
    " \n",
    "#sum_travel_radius = lambda p: np.sum(p.radius.values())\n",
    "#num_cut_edges = lambda p: len(p[\"cut_edges\"])\n",
    "average_radius = lambda p: np.sum(((np.array(list(p.radius.values())) - np.sum(list(p.radius.values())) / len(p))**2))\n",
    "\n",
    "optimizer = SingleMetricOptimizer(\n",
    "    proposal=proposal,\n",
    "    constraints=constraints,\n",
    "    initial_state=initial_solution,\n",
    "    optimization_metric=average_radius,\n",
    "    maximize=False)"
   ]
  },
  {
   "cell_type": "code",
   "execution_count": null,
   "metadata": {},
   "outputs": [],
   "source": [
    "\"Tilted Runs\"\n",
    "\n",
    "total_steps = 1000\n",
    "partitions = {}\n",
    "\n",
    "min_scores_tilt = np.zeros(total_steps)\n",
    "for i, part in enumerate(optimizer.tilted_run(total_steps, p=0.125, with_progress_bar=True)):\n",
    "    min_scores_tilt[i] = optimizer.best_score\n",
    "    partitions[i] = optimizer.best_part\n",
    "final_partition = optimizer.best_part\n"
   ]
  },
  {
   "cell_type": "code",
   "execution_count": null,
   "metadata": {},
   "outputs": [],
   "source": [
    "initial_solution['population']"
   ]
  },
  {
   "cell_type": "code",
   "execution_count": null,
   "metadata": {},
   "outputs": [],
   "source": [
    "\"Plot side by side\"\n",
    "fig, regions_initial_new, regions_final_new, centers, others = plt.compare(initial_partition, final_partition)\n",
    "fig\n"
   ]
  },
  {
   "cell_type": "markdown",
   "metadata": {},
   "source": [
    "# Last result for average radius with fixed travel time"
   ]
  },
  {
   "cell_type": "code",
   "execution_count": null,
   "metadata": {},
   "outputs": [],
   "source": [
    "import matplotlib.pyplot as mplt\n",
    "fig, ax = mplt.subplots(figsize=(12,6))\n",
    "mplt.plot(min_scores_tilt, label=\"Tilted Run\")\n",
    "mplt.xlabel(\"Steps\", fontsize=20)\n",
    "mplt.ylabel(\"Sum of radius_average\", fontsize=20)\n",
    "mplt.legend()\n",
    "mplt.show()"
   ]
  },
  {
   "cell_type": "code",
   "execution_count": null,
   "metadata": {},
   "outputs": [],
   "source": [
    "\"Plot side by side\"\n",
    "fig, regions_initial_new, regions_final_new, centers, others = plt.compare(initial_partition, final_partition)\n",
    "fig"
   ]
  },
  {
   "cell_type": "code",
   "execution_count": null,
   "metadata": {},
   "outputs": [],
   "source": [
    "#sum_travel_radius = lambda p: np.sum(p.radius.values())\n",
    "num_cut_edges = lambda p: len(p[\"cut_edges\"])\n",
    "average_radius = lambda p: np.sum(abs((np.array(list(p.radius.values())) - np.sum(list(p.radius.values())) / len(p))**2))"
   ]
  },
  {
   "cell_type": "code",
   "execution_count": null,
   "metadata": {},
   "outputs": [],
   "source": [
    "import gerrytools\n",
    "\n",
    "import matplotlib.pyplot as plt\n",
    "from gerrytools.scoring import *\n",
    "from gerrytools.plotting import *\n",
    "import gerrytools.plotting.colors as colors\n",
    "import numpy as np\n",
    "\n",
    "N = len(regions_final_new)\n",
    "\n",
    "dists = regions_final_new.to_crs(\"EPSG:3857\")\n",
    "dists[\"final_district\"] = dists[\"final_district\"].astype(int)\n",
    "dists=dists.sort_values(by=\"final_district\")\n",
    "dists[\"colorindex\"] = list(range(N))\n",
    "dists[\"color\"] = colors.districtr(N)\n",
    "\n",
    "ax = drawplan(chicago, assignment=\"final_district\", overlays=None)"
   ]
  },
  {
   "cell_type": "code",
   "execution_count": null,
   "metadata": {},
   "outputs": [],
   "source": [
    "import maup\n",
    "from maup import repair"
   ]
  },
  {
   "cell_type": "code",
   "execution_count": null,
   "metadata": {},
   "outputs": [],
   "source": [
    "maup.doctor(chicago)"
   ]
  },
  {
   "cell_type": "code",
   "execution_count": null,
   "metadata": {},
   "outputs": [],
   "source": [
    "repair.count_holes(chicago)"
   ]
  },
  {
   "cell_type": "code",
   "execution_count": null,
   "metadata": {},
   "outputs": [],
   "source": [
    "maup.repair.autorepair(chicago)"
   ]
  },
  {
   "cell_type": "code",
   "execution_count": null,
   "metadata": {},
   "outputs": [],
   "source": [
    "final_partition.plot(chicago, figsize=(10, 10), cmap=\"tab20\")\n",
    "mplt.axis('off')\n",
    "mplt.show()"
   ]
  },
  {
   "cell_type": "code",
   "execution_count": null,
   "metadata": {},
   "outputs": [],
   "source": [
    "import numpy as np\n",
    "print(\"1) Number of Cut Edges\")\n",
    "print(\"    Best score: \", optimizer.best_score)\n",
    "print(\"    Initial score: \", len(initial_partition[\"cut_edges\"]))\n",
    "print(\"2) Sum of Travel Radius\")\n",
    "print(\"    Initial: \", np.sum(list(initial_partition.radius.values())))\n",
    "print(\"    Final: \", np.sum(list(final_partition.radius.values())))\n",
    "print(\"3) Sum of Radius Devitation\")\n",
    "print(\"    Initial: \", sum(abs(np.array(list(initial_partition.radius.values())) - sum(x for x in initial_partition.radius.values()) / len(initial_partition))**2))\n",
    "print(\"    Final: \", sum(abs(np.array(list(final_partition.radius.values())) - sum(x for x in final_partition.radius.values())/ len(final_partition))**2 ))"
   ]
  },
  {
   "cell_type": "code",
   "execution_count": null,
   "metadata": {},
   "outputs": [],
   "source": [
    "\"\"\"pcompress\n",
    "radiuss = {}\n",
    "i=0\n",
    "for optimizer in Record(optimizer.tilted_run(total_steps, p=0.125, with_progress_bar=True), \"pa-run.chain\"):\n",
    "    # normal chain stuff here\n",
    "    partition = optimizer.best_part\n",
    "    radius = partition.radius\n",
    "    radiuss[i] = radius \n",
    "    i+= 1\"\"\""
   ]
  },
  {
   "cell_type": "code",
   "execution_count": null,
   "metadata": {},
   "outputs": [],
   "source": [
    "\"Watch\"\n",
    "%matplotlib inline\n",
    "import matplotlib_inline.backend_inline\n",
    "matplotlib_inline.backend_inline.set_matplotlib_formats('png')\n",
    "\n",
    "import pandas as pd\n",
    "\n",
    "import matplotlib.cm as mcm\n",
    "import matplotlib.pyplot as mplt\n",
    "import networkx as nx\n",
    "from PIL import Image\n",
    "import io\n",
    "import ipywidgets as widgets\n",
    "from IPython.display import display, clear_output\n",
    "\n",
    "frames = []\n",
    "district_data = []\n",
    "\n",
    "for i, partition in enumerate(recom_chain):\n",
    "    for district_name in partition.perimeter.keys():\n",
    "        population = partition.population[district_name]\n",
    "        perimeter = partition.perimeter[district_name]\n",
    "        area = partition.area[district_name]\n",
    "        district_data.append((i, district_name, population, perimeter, area))\n",
    "\n",
    "    buffer = io.BytesIO()\n",
    "    fig, ax = plt.subplots(figsize=(10,10))\n",
    "    partition.plot(ax=ax, cmap='tab20')\n",
    "    ax.set_xticks([])\n",
    "    ax.set_yticks([])\n",
    "    plt.savefig(buffer, format='png', bbox_inches='tight')\n",
    "    buffer.seek(0)\n",
    "    image = Image.open(buffer)\n",
    "    frames.append(image)\n",
    "    plt.close(fig)\n",
    "\n",
    "df = pd.DataFrame(\n",
    "    district_data,\n",
    "    columns=[\n",
    "        'step',\n",
    "        'district_name',\n",
    "        'population',\n",
    "        'perimeter',\n",
    "        'area'\n",
    "    ]\n",
    ")\n",
    "\n",
    "def show_frame(idx):\n",
    "    clear_output(wait=True)\n",
    "    display(frames[idx])\n",
    "\n",
    "slider = widgets.IntSlider(value=0, min=0, max=len(frames)-1, step=1, description='Frame:')\n",
    "slider.layout.width = '500px'\n",
    "widgets.interactive(show_frame, idx=slider)\n",
    "#df.head(5)\n",
    "#The perimeter and area attributes are actually not present in the MN_precincts.geojson file, but the GeographicPartition class will calculate them at instantiation time using the geometries provided in the file."
   ]
  },
  {
   "cell_type": "markdown",
   "metadata": {},
   "source": [
    "# Save"
   ]
  },
  {
   "cell_type": "code",
   "execution_count": null,
   "metadata": {},
   "outputs": [],
   "source": [
    "#final_partition = optimizer.best_part\n",
    "#for partition in pcompress.Record(optimizer, \"run.chain\", executable=\"pv\", extreme=True):\n",
    "#    print(partition.population)\n",
    "\n",
    "#final_partition = optimizer.best_part\n",
    "#handler = DataHandler()\n",
    "#handler.load_final_assignment()\n",
    "#final_partition = optimizer.best_part\n",
    "#final_assignment = dict(final_partition.assignment)\n",
    "#pd.to_pickle(final_assignment, '/Users/kirtisoglu/Documents/GitHub/Allocation-of-Primary-Care-Centers-in-Chicago/prepared_data/final_assignment.pkl')\n",
    "#final_assignment = handler.load_final_assignment()\n",
    "#final_assignment = Partition(graph, final_assignment, updaters=my_updaters)"
   ]
  },
  {
   "cell_type": "markdown",
   "metadata": {},
   "source": [
    "# Local Search"
   ]
  },
  {
   "cell_type": "code",
   "execution_count": null,
   "metadata": {},
   "outputs": [],
   "source": [
    "# We can run each of the optimization methods and collect some data\n",
    "\n",
    "total_steps = 10000\n",
    "\n",
    "# Short Bursts\n",
    "min_scores_sb = np.zeros(total_steps)\n",
    "for i, part in enumerate(optimizer.short_bursts(5, 2000, with_progress_bar=True)):\n",
    "    min_scores_sb[i] = optimizer.best_score\n",
    "\n",
    "# Simulated Annealing\n",
    "min_scores_anneal = np.zeros(total_steps)\n",
    "for i, part in enumerate(\n",
    "    optimizer.simulated_annealing(\n",
    "        total_steps,\n",
    "        optimizer.jumpcycle_beta_function(200, 800),\n",
    "        beta_magnitude=1,\n",
    "        with_progress_bar=True\n",
    "    )\n",
    "):\n",
    "    min_scores_anneal[i] = optimizer.best_score"
   ]
  }
 ],
 "metadata": {
  "kernelspec": {
   "display_name": "Allocation-of-Primary-Care-Centers-in-Chic-LgtmrD4y",
   "language": "python",
   "name": "python3"
  },
  "language_info": {
   "codemirror_mode": {
    "name": "ipython",
    "version": 3
   },
   "file_extension": ".py",
   "mimetype": "text/x-python",
   "name": "python",
   "nbconvert_exporter": "python",
   "pygments_lexer": "ipython3",
   "version": "3.12.2"
  }
 },
 "nbformat": 4,
 "nbformat_minor": 2
}
