{
 "cells": [
  {
   "cell_type": "code",
   "execution_count": 1,
   "metadata": {},
   "outputs": [],
   "source": [
    "import matplotlib.pyplot as mplt\n",
    "import pandas as pd\n",
    "import numpy as np\n",
    "import geopandas as gpd\n",
    " \n",
    "import cProfile\n",
    "import pstats\n",
    "import pickle \n",
    "import random\n",
    "\n",
    "from functools import partial\n",
    "from types import MappingProxyType\n",
    "#from tqdm import tqdm\n",
    "\n",
    "from helper import DataHandler, Plot, plot_grid\n",
    "from functools import partial\n",
    "\n",
    "from partition import Partition, Tally, Assignment\n",
    "from grid import Grid\n",
    "from markovchain import SingleMetricOptimizer, hierarchical_recom\n",
    "import constraints"
   ]
  },
  {
   "cell_type": "code",
   "execution_count": 2,
   "metadata": {},
   "outputs": [],
   "source": [
    "\"Load data\"\n",
    "\n",
    "handler = DataHandler()\n",
    "graph = handler.load_graph()\n",
    "chicago = handler.load_chicago()\n",
    "candidates = handler.load_candidates()  # set of nodes\n",
    "geo_centers = handler.load_geo_centers()\n",
    "geo_candidates = handler.load_geo_candidates()\n",
    "#travel_times_walking = handler.load_travel_walking()\n",
    "#travel_times = handler.load_travel_times() # travel time between blocks is 10 minutes\n",
    "newtravel = handler.load_newtravel()\n",
    "geometries = handler.load_geometries()\n",
    "plt = Plot()"
   ]
  },
  {
   "cell_type": "code",
   "execution_count": null,
   "metadata": {},
   "outputs": [],
   "source": [
    "# Define a wrapper function for profiling\n",
    "def run_partition(newtravel):\n",
    "    \"Initial partition\"\n",
    "    pop = sum(graph.nodes[node]['pop'] for node in graph.nodes)\n",
    "    #area = sum(graph.nodes[node]['area'] for node in graph.nodes)   \n",
    "    #avg_density = area / pop\n",
    "    # nodelarin density check i burda yapilip sonuc attribute olarak atansin. Attribute ismi simdilik density\n",
    "    #check_density = ?\n",
    "    Assignment.travel_times = MappingProxyType(newtravel)\n",
    "    column_names = ['pop', 'area', 'real_phc', 'avg_density']\n",
    "    \n",
    "    initial_solution = Partition.from_random_assignment(\n",
    "    graph=graph, \n",
    "    assignment_class=Assignment,\n",
    "    capacity_level = 1,\n",
    "    epsilon=0.01,\n",
    "    pop_target = pop // 100,\n",
    "    column_names = column_names,\n",
    "    #density = 0.5\n",
    "    )\n",
    "    return initial_solution\n",
    "\n",
    "\n",
    "cProfile.run('run_partition(newtravel)', 'profile_output')\n",
    "\n",
    "\n",
    "p = pstats.Stats('profile_output')\n",
    "p.strip_dirs()           # Optional: clean up file paths for readability\n",
    "p.sort_stats('cumulative')  # Sort by cumulative time or choose 'time', 'calls', etc.\n",
    "p.print_stats(20)  "
   ]
  },
  {
   "cell_type": "code",
   "execution_count": null,
   "metadata": {},
   "outputs": [],
   "source": [
    "\"Initial partition\"\n",
    "pop = sum(graph.nodes[node]['population'] for node in graph.nodes)\n",
    "#area = sum(graph.nodes[node]['area'] for node in graph.nodes)   \n",
    "#avg_density = area / pop\n",
    "# nodelarin density check i burda yapilip sonuc attribute olarak atansin. Attribute ismi simdilik density\n",
    "#check_density = ?\n",
    "Assignment.travel_times = MappingProxyType(newtravel)\n",
    "column_names = ['population', 'area', 'candidate', 'density']\n",
    "\n",
    "initial_solution = Partition.from_random_assignment(\n",
    "graph=graph, \n",
    "assignment_class=Assignment,\n",
    "capacity_level = 1,\n",
    "epsilon=0.005,\n",
    "pop_target = pop // 100,\n",
    "column_names = column_names,\n",
    "#density = 0.5\n",
    ")"
   ]
  },
  {
   "cell_type": "code",
   "execution_count": null,
   "metadata": {},
   "outputs": [],
   "source": [
    "import networkx as nx\n",
    "nx.draw(initial_solution.supergraph)"
   ]
  },
  {
   "cell_type": "code",
   "execution_count": 8,
   "metadata": {},
   "outputs": [
    {
     "name": "stdout",
     "output_type": "stream",
     "text": [
      "true\n"
     ]
    }
   ],
   "source": [
    "if (initial_solution.parts.keys()) == set(initial_solution.supergraph.nodes):\n",
    "    print('true')\n",
    "else:\n",
    "    print('false')"
   ]
  },
  {
   "cell_type": "code",
   "execution_count": null,
   "metadata": {},
   "outputs": [],
   "source": [
    "\n",
    "extension ='.pkl'\n",
    "file_path = '/Users/kirtisoglu/Documents/Documents/GitHub/Allocation-of-Primary-Care-Centers-in-Chicago/falcomchain/prepared_data/initial.pkl'\n",
    "mode = 'wb'\n",
    "opener = open\n",
    "with opener(file_path, mode) as file:\n",
    "            pickle.dump(initial_solution, file)"
   ]
  },
  {
   "cell_type": "code",
   "execution_count": null,
   "metadata": {},
   "outputs": [],
   "source": [
    "\"Plot initial partition\"\n",
    "#m, regions, chicago, geocenters = initial_solution.plot_map(attr=\"district\")\n",
    "#m\n",
    "\n",
    "\"Plot side by side\"\n",
    "fig, regions_initial_new, regions_final_new, centers, others = plt.compare(initial_solution, initial_solution)\n",
    "fig"
   ]
  },
  {
   "cell_type": "code",
   "execution_count": 16,
   "metadata": {},
   "outputs": [],
   "source": [
    "m.save(\"map0.html\")"
   ]
  },
  {
   "cell_type": "code",
   "execution_count": null,
   "metadata": {},
   "outputs": [],
   "source": [
    "\n",
    "\"Proposal and constraints\"   # See how we call this in optimizer. \n",
    "proposal = partial(\n",
    "    hierarchical_recom,\n",
    "    pop_target = pop // 100,\n",
    "    column_names = column_names,\n",
    "    epsilon=0.02,\n",
    "    density = None)\n",
    "constraints = constraints.within_percent_of_ideal_population(initial_solution)"
   ]
  },
  {
   "cell_type": "code",
   "execution_count": null,
   "metadata": {},
   "outputs": [
    {
     "ename": "NameError",
     "evalue": "name 'initial_solution' is not defined",
     "output_type": "error",
     "traceback": [
      "\u001b[0;31m---------------------------------------------------------------------------\u001b[0m",
      "\u001b[0;31mNameError\u001b[0m                                 Traceback (most recent call last)",
      "Cell \u001b[0;32mIn[3], line 1\u001b[0m\n\u001b[0;32m----> 1\u001b[0m \u001b[43minitial_solution\u001b[49m\u001b[38;5;241m.\u001b[39msupergraph\u001b[38;5;241m.\u001b[39mnodes[node]\n",
      "\u001b[0;31mNameError\u001b[0m: name 'initial_solution' is not defined"
     ]
    },
    {
     "name": "stdout",
     "output_type": "stream",
     "text": [
      "ERROR! Session/line number was not unique in database. History logging moved to new session 1236\n"
     ]
    }
   ],
   "source": [
    "initial_solution.supergraph.nodes[node]"
   ]
  },
  {
   "cell_type": "code",
   "execution_count": 12,
   "metadata": {},
   "outputs": [
    {
     "ename": "KeyError",
     "evalue": "'population'",
     "output_type": "error",
     "traceback": [
      "\u001b[0;31m---------------------------------------------------------------------------\u001b[0m",
      "\u001b[0;31mKeyError\u001b[0m                                  Traceback (most recent call last)",
      "Cell \u001b[0;32mIn[12], line 3\u001b[0m\n\u001b[1;32m      1\u001b[0m pop\u001b[38;5;241m=\u001b[39m{}\n\u001b[1;32m      2\u001b[0m \u001b[38;5;28;01mfor\u001b[39;00m node \u001b[38;5;129;01min\u001b[39;00m initial_solution\u001b[38;5;241m.\u001b[39msupergraph\u001b[38;5;241m.\u001b[39mnodes:\n\u001b[0;32m----> 3\u001b[0m     pop[node] \u001b[38;5;241m=\u001b[39m \u001b[43minitial_solution\u001b[49m\u001b[38;5;241;43m.\u001b[39;49m\u001b[43msupergraph\u001b[49m\u001b[38;5;241;43m.\u001b[39;49m\u001b[43mnodes\u001b[49m\u001b[43m[\u001b[49m\u001b[43mnode\u001b[49m\u001b[43m]\u001b[49m\u001b[43m[\u001b[49m\u001b[38;5;124;43m'\u001b[39;49m\u001b[38;5;124;43mpopulation\u001b[39;49m\u001b[38;5;124;43m'\u001b[39;49m\u001b[43m]\u001b[49m\n\u001b[1;32m      4\u001b[0m pop\u001b[38;5;241m.\u001b[39mvalues()\n",
      "\u001b[0;31mKeyError\u001b[0m: 'population'"
     ]
    }
   ],
   "source": [
    "pop={}\n",
    "for node in initial_solution.supergraph.nodes:\n",
    "    pop[node] = initial_solution.supergraph.nodes[node]['population']\n",
    "pop.values()"
   ]
  },
  {
   "cell_type": "code",
   "execution_count": 5,
   "metadata": {},
   "outputs": [],
   "source": [
    "\"Optimizer\"\n",
    " \n",
    "#sum_travel_radius = lambda p: np.sum(p.radius.values())\n",
    "#num_cut_edges = lambda p: len(p[\"cut_edges\"])\n",
    "average_radius = lambda p: np.sum(((np.array(list(p.radius.values())) - np.sum(list(p.radius.values())) / len(p))**2))\n",
    "\n",
    "optimizer = SingleMetricOptimizer(\n",
    "    proposal=proposal,\n",
    "    constraints=constraints,\n",
    "    initial_state=initial_solution,\n",
    "    optimization_metric=average_radius,\n",
    "    maximize=False)"
   ]
  },
  {
   "cell_type": "code",
   "execution_count": null,
   "metadata": {},
   "outputs": [],
   "source": [
    "\"Tilted Runs\"\n",
    "\n",
    "total_steps = 1000\n",
    "partitions = {}\n",
    "\n",
    "min_scores_tilt = np.zeros(total_steps)\n",
    "for i, part in enumerate(optimizer.tilted_run(total_steps, p=0.125, with_progress_bar=True)):\n",
    "    min_scores_tilt[i] = optimizer.best_score\n",
    "    partitions[i] = optimizer.best_part\n",
    "final_partition = optimizer.best_part\n"
   ]
  },
  {
   "cell_type": "code",
   "execution_count": null,
   "metadata": {},
   "outputs": [],
   "source": [
    "initial_solution['population']"
   ]
  },
  {
   "cell_type": "code",
   "execution_count": null,
   "metadata": {},
   "outputs": [],
   "source": [
    "\"Plot side by side\"\n",
    "fig, regions_initial_new, regions_final_new, centers, others = plt.compare(initial_partition, final_partition)\n",
    "fig\n"
   ]
  },
  {
   "cell_type": "markdown",
   "metadata": {},
   "source": [
    "# Last result for average radius with fixed travel time"
   ]
  },
  {
   "cell_type": "code",
   "execution_count": null,
   "metadata": {},
   "outputs": [],
   "source": [
    "import matplotlib.pyplot as mplt\n",
    "fig, ax = mplt.subplots(figsize=(12,6))\n",
    "mplt.plot(min_scores_tilt, label=\"Tilted Run\")\n",
    "mplt.xlabel(\"Steps\", fontsize=20)\n",
    "mplt.ylabel(\"Sum of radius_average\", fontsize=20)\n",
    "mplt.legend()\n",
    "mplt.show()"
   ]
  },
  {
   "cell_type": "code",
   "execution_count": null,
   "metadata": {},
   "outputs": [],
   "source": [
    "\"Plot side by side\"\n",
    "fig, regions_initial_new, regions_final_new, centers, others = plt.compare(initial_partition, final_partition)\n",
    "fig"
   ]
  },
  {
   "cell_type": "code",
   "execution_count": null,
   "metadata": {},
   "outputs": [],
   "source": [
    "#sum_travel_radius = lambda p: np.sum(p.radius.values())\n",
    "num_cut_edges = lambda p: len(p[\"cut_edges\"])\n",
    "average_radius = lambda p: np.sum(abs((np.array(list(p.radius.values())) - np.sum(list(p.radius.values())) / len(p))**2))"
   ]
  },
  {
   "cell_type": "code",
   "execution_count": null,
   "metadata": {},
   "outputs": [],
   "source": [
    "import gerrytools\n",
    "\n",
    "import matplotlib.pyplot as plt\n",
    "from gerrytools.scoring import *\n",
    "from gerrytools.plotting import *\n",
    "import gerrytools.plotting.colors as colors\n",
    "import numpy as np\n",
    "\n",
    "N = len(regions_final_new)\n",
    "\n",
    "dists = regions_final_new.to_crs(\"EPSG:3857\")\n",
    "dists[\"final_district\"] = dists[\"final_district\"].astype(int)\n",
    "dists=dists.sort_values(by=\"final_district\")\n",
    "dists[\"colorindex\"] = list(range(N))\n",
    "dists[\"color\"] = colors.districtr(N)\n",
    "\n",
    "ax = drawplan(chicago, assignment=\"final_district\", overlays=None)"
   ]
  },
  {
   "cell_type": "code",
   "execution_count": null,
   "metadata": {},
   "outputs": [],
   "source": [
    "import maup\n",
    "from maup import repair"
   ]
  },
  {
   "cell_type": "code",
   "execution_count": null,
   "metadata": {},
   "outputs": [],
   "source": [
    "maup.doctor(chicago)"
   ]
  },
  {
   "cell_type": "code",
   "execution_count": null,
   "metadata": {},
   "outputs": [],
   "source": [
    "repair.count_holes(chicago)"
   ]
  },
  {
   "cell_type": "code",
   "execution_count": null,
   "metadata": {},
   "outputs": [],
   "source": [
    "maup.repair.autorepair(chicago)"
   ]
  },
  {
   "cell_type": "code",
   "execution_count": null,
   "metadata": {},
   "outputs": [],
   "source": [
    "final_partition.plot(chicago, figsize=(10, 10), cmap=\"tab20\")\n",
    "mplt.axis('off')\n",
    "mplt.show()"
   ]
  },
  {
   "cell_type": "code",
   "execution_count": null,
   "metadata": {},
   "outputs": [],
   "source": [
    "import numpy as np\n",
    "print(\"1) Number of Cut Edges\")\n",
    "print(\"    Best score: \", optimizer.best_score)\n",
    "print(\"    Initial score: \", len(initial_partition[\"cut_edges\"]))\n",
    "print(\"2) Sum of Travel Radius\")\n",
    "print(\"    Initial: \", np.sum(list(initial_partition.radius.values())))\n",
    "print(\"    Final: \", np.sum(list(final_partition.radius.values())))\n",
    "print(\"3) Sum of Radius Devitation\")\n",
    "print(\"    Initial: \", sum(abs(np.array(list(initial_partition.radius.values())) - sum(x for x in initial_partition.radius.values()) / len(initial_partition))**2))\n",
    "print(\"    Final: \", sum(abs(np.array(list(final_partition.radius.values())) - sum(x for x in final_partition.radius.values())/ len(final_partition))**2 ))"
   ]
  },
  {
   "cell_type": "code",
   "execution_count": null,
   "metadata": {},
   "outputs": [],
   "source": [
    "\"\"\"pcompress\n",
    "radiuss = {}\n",
    "i=0\n",
    "for optimizer in Record(optimizer.tilted_run(total_steps, p=0.125, with_progress_bar=True), \"pa-run.chain\"):\n",
    "    # normal chain stuff here\n",
    "    partition = optimizer.best_part\n",
    "    radius = partition.radius\n",
    "    radiuss[i] = radius \n",
    "    i+= 1\"\"\""
   ]
  },
  {
   "cell_type": "code",
   "execution_count": null,
   "metadata": {},
   "outputs": [],
   "source": [
    "\"Watch\"\n",
    "%matplotlib inline\n",
    "import matplotlib_inline.backend_inline\n",
    "matplotlib_inline.backend_inline.set_matplotlib_formats('png')\n",
    "\n",
    "import pandas as pd\n",
    "\n",
    "import matplotlib.cm as mcm\n",
    "import matplotlib.pyplot as mplt\n",
    "import networkx as nx\n",
    "from PIL import Image\n",
    "import io\n",
    "import ipywidgets as widgets\n",
    "from IPython.display import display, clear_output\n",
    "\n",
    "frames = []\n",
    "district_data = []\n",
    "\n",
    "for i, partition in enumerate(recom_chain):\n",
    "    for district_name in partition.perimeter.keys():\n",
    "        population = partition.population[district_name]\n",
    "        perimeter = partition.perimeter[district_name]\n",
    "        area = partition.area[district_name]\n",
    "        district_data.append((i, district_name, population, perimeter, area))\n",
    "\n",
    "    buffer = io.BytesIO()\n",
    "    fig, ax = plt.subplots(figsize=(10,10))\n",
    "    partition.plot(ax=ax, cmap='tab20')\n",
    "    ax.set_xticks([])\n",
    "    ax.set_yticks([])\n",
    "    plt.savefig(buffer, format='png', bbox_inches='tight')\n",
    "    buffer.seek(0)\n",
    "    image = Image.open(buffer)\n",
    "    frames.append(image)\n",
    "    plt.close(fig)\n",
    "\n",
    "df = pd.DataFrame(\n",
    "    district_data,\n",
    "    columns=[\n",
    "        'step',\n",
    "        'district_name',\n",
    "        'population',\n",
    "        'perimeter',\n",
    "        'area'\n",
    "    ]\n",
    ")\n",
    "\n",
    "def show_frame(idx):\n",
    "    clear_output(wait=True)\n",
    "    display(frames[idx])\n",
    "\n",
    "slider = widgets.IntSlider(value=0, min=0, max=len(frames)-1, step=1, description='Frame:')\n",
    "slider.layout.width = '500px'\n",
    "widgets.interactive(show_frame, idx=slider)\n",
    "#df.head(5)\n",
    "#The perimeter and area attributes are actually not present in the MN_precincts.geojson file, but the GeographicPartition class will calculate them at instantiation time using the geometries provided in the file."
   ]
  },
  {
   "cell_type": "markdown",
   "metadata": {},
   "source": [
    "# Save"
   ]
  },
  {
   "cell_type": "code",
   "execution_count": null,
   "metadata": {},
   "outputs": [],
   "source": [
    "#final_partition = optimizer.best_part\n",
    "#for partition in pcompress.Record(optimizer, \"run.chain\", executable=\"pv\", extreme=True):\n",
    "#    print(partition.population)\n",
    "\n",
    "#final_partition = optimizer.best_part\n",
    "#handler = DataHandler()\n",
    "#handler.load_final_assignment()\n",
    "#final_partition = optimizer.best_part\n",
    "#final_assignment = dict(final_partition.assignment)\n",
    "#pd.to_pickle(final_assignment, '/Users/kirtisoglu/Documents/GitHub/Allocation-of-Primary-Care-Centers-in-Chicago/prepared_data/final_assignment.pkl')\n",
    "#final_assignment = handler.load_final_assignment()\n",
    "#final_assignment = Partition(graph, final_assignment, updaters=my_updaters)"
   ]
  },
  {
   "cell_type": "markdown",
   "metadata": {},
   "source": [
    "# Local Search"
   ]
  },
  {
   "cell_type": "code",
   "execution_count": null,
   "metadata": {},
   "outputs": [],
   "source": [
    "# We can run each of the optimization methods and collect some data\n",
    "\n",
    "total_steps = 10000\n",
    "\n",
    "# Short Bursts\n",
    "min_scores_sb = np.zeros(total_steps)\n",
    "for i, part in enumerate(optimizer.short_bursts(5, 2000, with_progress_bar=True)):\n",
    "    min_scores_sb[i] = optimizer.best_score\n",
    "\n",
    "# Simulated Annealing\n",
    "min_scores_anneal = np.zeros(total_steps)\n",
    "for i, part in enumerate(\n",
    "    optimizer.simulated_annealing(\n",
    "        total_steps,\n",
    "        optimizer.jumpcycle_beta_function(200, 800),\n",
    "        beta_magnitude=1,\n",
    "        with_progress_bar=True\n",
    "    )\n",
    "):\n",
    "    min_scores_anneal[i] = optimizer.best_score"
   ]
  }
 ],
 "metadata": {
  "kernelspec": {
   "display_name": "Allocation-of-Primary-Care-Centers-in-Chic-LgtmrD4y",
   "language": "python",
   "name": "python3"
  },
  "language_info": {
   "codemirror_mode": {
    "name": "ipython",
    "version": 3
   },
   "file_extension": ".py",
   "mimetype": "text/x-python",
   "name": "python",
   "nbconvert_exporter": "python",
   "pygments_lexer": "ipython3",
   "version": "3.12.2"
  }
 },
 "nbformat": 4,
 "nbformat_minor": 2
}
