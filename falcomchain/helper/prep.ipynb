{
 "cells": [
  {
   "cell_type": "code",
   "execution_count": 1,
   "metadata": {},
   "outputs": [],
   "source": [
    "import pandas as pd\n",
    "import numpy as np\n",
    "import geopandas as gpd\n",
    "import json\n",
    "import plotly.express as px\n",
    "import matplotlib as plt\n",
    "import random\n",
    "import pickle\n",
    "import gzip\n",
    "import networkx as nx\n",
    "from data_handler import DataHandler"
   ]
  },
  {
   "cell_type": "code",
   "execution_count": null,
   "metadata": {},
   "outputs": [],
   "source": [
    "handler = DataHandler()\n",
    "chicago = handler.load_chicago()\n",
    "#centers = handler.load_centers()\n",
    "graph = handler.load_graph_new()"
   ]
  },
  {
   "cell_type": "code",
   "execution_count": 4,
   "metadata": {},
   "outputs": [],
   "source": [
    "#chicago = gpd.read_file('data/chicago.json')\n",
    "#center_lat, center_lon = projection(chicago)  # see gerrychain library for that function. \n",
    "#fig =  plot.fig_blocks(chicago)"
   ]
  },
  {
   "cell_type": "markdown",
   "metadata": {},
   "source": [
    "# Dual Graph of Census Blocks"
   ]
  },
  {
   "cell_type": "code",
   "execution_count": null,
   "metadata": {},
   "outputs": [],
   "source": [
    "\"\"\" We use Gerrychain library to construct a dual graph of Census blocks. \"\"\"\n",
    "\n",
    "# Write a function to create a graph removing default/secified columns from a dataset\n",
    "\n",
    "#graph = Graph.from_geodataframe(chicago)\n",
    "#nx.draw(graph,pos={node:(graph.nodes()[node]['centroid'].x,graph.nodes()[node]['centroid'].y) for node in graph.nodes()}, node_size=20)\n",
    "#graph.to_json(\"GraphToJson.json\")\n",
    "\n",
    "# graph = Graph.from_json(\"data/GraphToJson.json\")\n",
    "\n",
    "# Opening JSON file\n",
    "#f = open('GraphToJson.json')\n",
    "# returns JSON object as a dictionary\n",
    "#data = json.load(f)\n",
    "#f.close()\n",
    "#data.keys()\n",
    "\n",
    "\"\"\"adjacency = random.choice(list(data['adjacency']))\n",
    "adjacency\"\"\"\n",
    "\n",
    "\"\"\"node = random.choice(list(graph.nodes))\n",
    "graph.nodes[node]['GEOID20'] \"\"\"\n",
    "\n",
    "\"\"\"first_node = list(graph.nodes)[0]\n",
    "node_attributes = graph.nodes[first_node]\n",
    "print(f\"Attributes for node {first_node}: {node_attributes}\")\"\"\"\n",
    "\n",
    "\"\"\" lookup()  #Lookup a node/field attribute. Returns the value of the attribute field at node.\"\"\" "
   ]
  },
  {
   "cell_type": "markdown",
   "metadata": {},
   "source": [
    "- The areas of the polygons are included as node attributes (with key `area`).\n",
    "        \n",
    "- The shared perimeter of neighboring polygons are included as edge attributes (with key `shared_perim`).\n",
    "\n",
    "- Nodes corresponding to polygons on the boundary of the union of all the geometries (e.g., the state, if your dataframe describes VTDs) have a    `boundary_node` attribute (set to `True`) and a `boundary_perim` attribute\n",
    "with the length of this \"exterior\" boundary.\n",
    "\n",
    "- Gerrychain library has centroid function."
   ]
  },
  {
   "cell_type": "markdown",
   "metadata": {},
   "source": [
    "# Get Populations from DHC Data"
   ]
  },
  {
   "cell_type": "code",
   "execution_count": null,
   "metadata": {},
   "outputs": [],
   "source": [
    "#dhc = pd.read_csv('data/dhc_2020.csv')\n",
    "#pop_dict = load.get_column(data = dhc, column = 'TOT_POP')  # returns {key: geoid, value: population}\n",
    "#load.add_to_graph(graph, pop_dict)  # adds 'population' attributes to nodes\n",
    "#load.add_to_data(chicago, pop_dict)"
   ]
  },
  {
   "cell_type": "markdown",
   "metadata": {},
   "source": [
    "See in API that\n",
    "\n",
    "classgerrychain.partition.GeographicPartition\n",
    "\n",
    "crosses_parts(edge: Tuple)→ bool\n",
    "\n",
    "flip(flips: Dict)→ Partition\n",
    "\n",
    "plot(geometries=None, **kwargs)"
   ]
  },
  {
   "cell_type": "markdown",
   "metadata": {},
   "source": [
    "# Generate Random PHCs"
   ]
  },
  {
   "cell_type": "code",
   "execution_count": null,
   "metadata": {},
   "outputs": [],
   "source": [
    "#phc_df, selected_blocks = load.random_phc(chicago)\n",
    "#candidates = load.add_phc(chicago, graph, selected_blocks)\n",
    "#fig = plot.add_phc(fig, phc_df)\n",
    "#fig.show() "
   ]
  },
  {
   "cell_type": "markdown",
   "metadata": {},
   "source": [
    "# Calculate Travel Times"
   ]
  },
  {
   "cell_type": "markdown",
   "metadata": {},
   "source": [
    "NOTE: Correct the projection to get the precise walking times."
   ]
  },
  {
   "cell_type": "code",
   "execution_count": 2,
   "metadata": {},
   "outputs": [],
   "source": [
    "\"\"\"\"travel_times calculated and saved. Travel time betwween two blocks is fixed as 10 minutes.\"\n",
    "handler = DataHandler()\n",
    "graph = handler.load_graph()\n",
    "candidates = handler.load_candidates()\n",
    "\n",
    "import pickle\n",
    "import gzip \n",
    "\n",
    "file_path = '/Users/kirtisoglu/Documents/GitHub/Allocation-of-Primary-Care-Centers-in-Chicago/prepared_data/newtravel.pkl.gz'\n",
    "with gzip.open(file_path, 'wb') as file:\n",
    "                pickle.dump(t, file)\n",
    "\n",
    "for u, v in graph.edges():\n",
    "    graph[u][v]['time'] = 10\n",
    "t = travel.travel_time(graph, candidates)\"\"\""
   ]
  },
  {
   "cell_type": "code",
   "execution_count": 5,
   "metadata": {},
   "outputs": [],
   "source": [
    "\"Travel Time Mode: Walking Time with the Shortest Distance\"\n",
    "\n",
    "import math\n",
    "\n",
    "# the shortest distance in km over the earth’s surface using the ‘Haversine’ formula.\n",
    "def get_distance_from_lat_lon_in_km(lat1, lon1, lat2, lon2):\n",
    "    R = 6371  # Radius of the earth in km\n",
    "    dLat = deg2rad(lat2 - lat1)\n",
    "    dLon = deg2rad(lon2 - lon1)\n",
    "    a = (\n",
    "        math.sin(dLat / 2) * math.sin(dLat / 2) +\n",
    "        math.cos(deg2rad(lat1)) * math.cos(deg2rad(lat2)) *\n",
    "        math.sin(dLon / 2) * math.sin(dLon / 2)\n",
    "    )\n",
    "    c = 2 * math.atan2(math.sqrt(a), math.sqrt(1 - a))\n",
    "    d = R * c # Distance in km\n",
    "    return d\n",
    "\n",
    "def deg2rad(deg):\n",
    "    return deg * (math.pi / 180)\n",
    "\n",
    "speed = 4.5  # walking speed in km/h for pedestrians (considering traffic lights. See the the urban design section on wiki page of Preferred_walking_speed: typical 5.0 km/h, recommended 4.8 km/h)\n",
    "# Calculate distances between block centroids and assign them as edge weights\n",
    "for edge in graph.edges:\n",
    "    u, v = edge\n",
    "    lat1, lon1 = graph.nodes[u]['C_Y'], graph.nodes[u]['C_X']\n",
    "    lat2, lon2 = graph.nodes[v]['C_Y'], graph.nodes[v]['C_X']\n",
    "    \n",
    "    weight_hours = get_distance_from_lat_lon_in_km(lat1, lon1, lat2, lon2) / speed # walking time in hours\n",
    "    weight = weight_hours * 60 * 60  # convert to seconds\n",
    "    \n",
    "    graph.edges[edge]['walk'] = math.floor(weight) # no need for miliseconds"
   ]
  },
  {
   "cell_type": "code",
   "execution_count": 3,
   "metadata": {},
   "outputs": [
    {
     "data": {
      "text/plain": [
       "{'shared_perim': 0.00045513733859732183,\n",
       " 'time': 10,\n",
       " 'random_weight': 0.07680618364019531,\n",
       " 'walk': 107}"
      ]
     },
     "execution_count": 3,
     "metadata": {},
     "output_type": "execute_result"
    }
   ],
   "source": [
    "edge = random.choice(list(graph.edges))\n",
    "graph.edges[edge]"
   ]
  },
  {
   "cell_type": "code",
   "execution_count": 8,
   "metadata": {},
   "outputs": [],
   "source": [
    "path = '/Users/kirtisoglu/Documents/GitHub/Allocation-of-Primary-Care-Centers-in-Chicago/prepared_data/graph_new.pkl'\n",
    "with open(path, 'wb') as file:\n",
    "                pickle.dump(graph, file)"
   ]
  },
  {
   "cell_type": "code",
   "execution_count": 4,
   "metadata": {},
   "outputs": [],
   "source": [
    "candidates = handler.load_candidates()\n",
    "\n",
    "import pickle\n",
    "import gzip \n",
    "\n",
    "attr = 'walk'\n",
    "\n",
    "t = travel.travel_time(graph, candidates, attr=attr)\n",
    "\n",
    "file_path = '/Users/kirtisoglu/Documents/GitHub/Allocation-of-Primary-Care-Centers-in-Chicago/prepared_data/travel_walking.pkl.gz'\n",
    "with gzip.open(file_path, 'wb') as file:\n",
    "                pickle.dump(t, file)"
   ]
  },
  {
   "cell_type": "markdown",
   "metadata": {},
   "source": [
    "# Save Objects"
   ]
  },
  {
   "cell_type": "code",
   "execution_count": null,
   "metadata": {},
   "outputs": [
    {
     "data": {
      "text/plain": [
       "' Surprisingly, it uses only 10MB memory, while GraphToJson.json uses 27MB.'"
      ]
     },
     "execution_count": 16,
     "metadata": {},
     "output_type": "execute_result"
    }
   ],
   "source": [
    "\" 1) Graph is saved as graph.pkl in prepared_data folder.\"\n",
    "# load.cache_data(graph, file_path='prepared_data/graph.pkl', method = 'pickle')  \n",
    "\" Surprisingly, it uses only 10MB memory, while GraphToJson.json uses 27MB.\""
   ]
  },
  {
   "cell_type": "code",
   "execution_count": null,
   "metadata": {},
   "outputs": [],
   "source": [
    "\"\"\" 2) Travel times is saved as travel_times.pkl.gz\n",
    "    ujson is loaded in 35 sec, and uses 140MB \n",
    "    pkl.gz is loaded in 16-17 sec, and uses 130MB memory. \"\"\"\n",
    "# load.cache_data(travel_times, file_path='prepared_data/travel_times.pkl.gz', method = 'pickle_gzip')"
   ]
  },
  {
   "cell_type": "code",
   "execution_count": null,
   "metadata": {},
   "outputs": [],
   "source": [
    "\"\"\" 3) Chicago data is saved as chicago.pkl.\n",
    "    pkl is loaded in 1 sec, and uses 19MB memory. \n",
    "    Original chicago.json file uses 38MB.\n",
    "    I didn't really get it. pkl is better than json in both memory and loading.\"\"\"\n",
    "    \n",
    "# load.cache_data(chicago, file_path='prepared_data/chicago.pkl', method='pickle')"
   ]
  },
  {
   "cell_type": "code",
   "execution_count": null,
   "metadata": {},
   "outputs": [],
   "source": [
    "\"\"\" 4) Possible PHC locations (candidates) are saved as candidates.pkl\"\"\"\n",
    "# load.cache_data(candidates, file_path='prepared_data/candidates.pkl', method='pickle')"
   ]
  },
  {
   "cell_type": "markdown",
   "metadata": {},
   "source": [
    "# Upload Real Libraries and Schools Data (Real Facility Candidates)"
   ]
  },
  {
   "cell_type": "markdown",
   "metadata": {},
   "source": [
    "The coordinates are currently in tuple form inside a string. We need to convert these into a Point geometry object from the shapely.geometry module."
   ]
  },
  {
   "cell_type": "code",
   "execution_count": 3,
   "metadata": {},
   "outputs": [],
   "source": [
    "handler = DataHandler()\n",
    "#vars(handler)"
   ]
  },
  {
   "cell_type": "code",
   "execution_count": 4,
   "metadata": {},
   "outputs": [],
   "source": [
    "chicago = handler.load_chicago()\n",
    "libraries = handler.load_libraries()\n",
    "schools = handler.load_geo_schools ()\n",
    "candidates = handler.load_candidates()"
   ]
  },
  {
   "cell_type": "code",
   "execution_count": 6,
   "metadata": {},
   "outputs": [
    {
     "data": {
      "text/plain": [
       "Index(['id', 'STATEFP20', 'COUNTYFP20', 'TRACTCE20', 'BLOCKCE20', 'GEOID20',\n",
       "       'NAME20', 'MTFCC20', 'UR20', 'UACE20', 'UATYPE20', 'FUNCSTAT20',\n",
       "       'ALAND20', 'AWATER20', 'INTPTLAT20', 'INTPTLON20', 'geometry',\n",
       "       'centroid', 'constant', 'pop', 'phc'],\n",
       "      dtype='object')"
      ]
     },
     "execution_count": 6,
     "metadata": {},
     "output_type": "execute_result"
    }
   ],
   "source": [
    "chicago.columns"
   ]
  },
  {
   "cell_type": "code",
   "execution_count": 7,
   "metadata": {},
   "outputs": [
    {
     "name": "stderr",
     "output_type": "stream",
     "text": [
      "/Library/Frameworks/Python.framework/Versions/3.12/lib/python3.12/site-packages/gerrychain/graph/graph.py:179: UserWarning: Geometry is in a geographic CRS. Results from 'area' are likely incorrect. Use 'GeoSeries.to_crs()' to re-project geometries to a projected CRS before this operation.\n",
      "\n",
      "  areas = df.geometry.area.to_dict()\n"
     ]
    }
   ],
   "source": [
    "graph = Graph.from_geodataframe(chicago)"
   ]
  },
  {
   "cell_type": "code",
   "execution_count": null,
   "metadata": {},
   "outputs": [],
   "source": [
    "districts.to_crs(districts.estimate_utm_crs(), inplace=True)\n",
    "units.to_crs(units.estimate_utm_crs()), inplace=True)"
   ]
  },
  {
   "cell_type": "code",
   "execution_count": 8,
   "metadata": {},
   "outputs": [
    {
     "data": {
      "text/plain": [
       "{'boundary_node': False,\n",
       " 'area': 2.2087594999952947e-06,\n",
       " 'id': '318322',\n",
       " 'STATEFP20': '17',\n",
       " 'COUNTYFP20': '031',\n",
       " 'TRACTCE20': '062400',\n",
       " 'BLOCKCE20': '1011',\n",
       " 'GEOID20': '170310624001011',\n",
       " 'NAME20': 'Block 1011',\n",
       " 'MTFCC20': 'G5040',\n",
       " 'UR20': 'R',\n",
       " 'UACE20': '',\n",
       " 'UATYPE20': '',\n",
       " 'FUNCSTAT20': 'S',\n",
       " 'ALAND20': 20345,\n",
       " 'AWATER20': 0,\n",
       " 'INTPTLAT20': '+41.9401691',\n",
       " 'INTPTLON20': '-087.6674627',\n",
       " 'geometry': <POLYGON ((-87.669 41.941, -87.669 41.94, -87.669 41.94, -87.669 41.94, -87....>,\n",
       " 'centroid': <POINT (-87.667 41.94)>,\n",
       " 'constant': 2,\n",
       " 'pop': 115.0,\n",
       " 'phc': 0}"
      ]
     },
     "execution_count": 8,
     "metadata": {},
     "output_type": "execute_result"
    }
   ],
   "source": [
    "import random\n",
    "node = random.choice(list(graph.nodes))\n",
    "graph.nodes[node]"
   ]
  },
  {
   "cell_type": "code",
   "execution_count": 10,
   "metadata": {},
   "outputs": [
    {
     "data": {
      "text/plain": [
       "{'shared_perim': 0.0018255796339829787}"
      ]
     },
     "execution_count": 10,
     "metadata": {},
     "output_type": "execute_result"
    }
   ],
   "source": [
    "edge = random.choice(list(graph.edges))\n",
    "graph.edges[edge]"
   ]
  },
  {
   "cell_type": "code",
   "execution_count": null,
   "metadata": {},
   "outputs": [],
   "source": [
    "\"\"\"libraries = gpd.read_file('/Users/kirtisoglu/Documents/GitHub/Allocation-of-Primary-Care-Centers-in-Chicago/data/libraries.csv') \"\"\""
   ]
  },
  {
   "cell_type": "code",
   "execution_count": 5,
   "metadata": {},
   "outputs": [
    {
     "name": "stdout",
     "output_type": "stream",
     "text": [
      "                             NAME   \\\n",
      "0                  Vodak-East Side   \n",
      "1                      Albany Park   \n",
      "2                           Avalon   \n",
      "3                         Brainerd   \n",
      "4   Popular Library at Water Works   \n",
      "..                             ...   \n",
      "76        Woodson Regional Library   \n",
      "77                         Mayfair   \n",
      "78                     Chicago Bee   \n",
      "79                          Uptown   \n",
      "80                    Sherman Park   \n",
      "\n",
      "                                   HOURS OF OPERATION  \\\n",
      "0   Mon. & Wed., Noon-8; Tues. & Thurs., 10-6; Fri...   \n",
      "1   Mon. & Wed., 10-6; Tues. & Thurs., Noon-8; Fri...   \n",
      "2   Mon. & Wed., Noon-8; Tues. & Thurs., 10-6; Fri...   \n",
      "3   Mon. & Wed., 10-6; Tues. & Thurs., Noon-8; Fri...   \n",
      "4    Mon. - Thurs., 10-6; Fri. & Sat., 9-5; Sun., 1-5   \n",
      "..                                                ...   \n",
      "76    Mon. - Thurs., 9-8; Fri. & Sat., 9-5; Sun., 1-5   \n",
      "77  Mon. & Wed., Noon-8; Tues. & Thurs., 10-6; Fri...   \n",
      "78  Mon. & Wed., Noon-8; Tues. & Thurs., 10-6; Fri...   \n",
      "79  Mon. & Wed., 10-6; Tues. & Thurs., Noon-8; Fri...   \n",
      "80  Mon. & Wed., Noon-8; Tues. & Thurs., 10-6; Fri...   \n",
      "\n",
      "                      ADDRESS     CITY STATE    ZIP           PHONE  \\\n",
      "0           3710 E. 106th St.  Chicago    IL  60617  (312) 747-5500   \n",
      "1         3401 W. Foster Ave.  Chicago    IL  60625  (773) 539-5450   \n",
      "2   8148 S. Stony Island Ave.  Chicago    IL  60617  (312) 747-5234   \n",
      "3            1350 W. 89th St.  Chicago    IL  60620  (312) 747-6291   \n",
      "4          163 E. Pearson St.  Chicago    IL  60611  (312) 742-8811   \n",
      "..                        ...      ...   ...    ...             ...   \n",
      "76        9525 S. Halsted St.  Chicago    IL  60628  (312) 747-6900   \n",
      "77      4400 W. Lawrence Ave.  Chicago    IL  60630  (312) 744-1254   \n",
      "78          3647 S. State St.  Chicago    IL  60609  (312) 747-6872   \n",
      "79          929 W. Buena Ave.  Chicago    IL  60613  (312) 744-8400   \n",
      "80        5440 S. Racine Ave.  Chicago    IL  60609  (312) 747-0477   \n",
      "\n",
      "                                    WEBSITE  \\\n",
      "0   https://www.chipublib.org/locations/71/   \n",
      "1    https://www.chipublib.org/locations/3/   \n",
      "2    https://www.chipublib.org/locations/8/   \n",
      "3   https://www.chipublib.org/locations/13/   \n",
      "4   https://www.chipublib.org/locations/73/   \n",
      "..                                      ...   \n",
      "76  https://www.chipublib.org/locations/81/   \n",
      "77  https://www.chipublib.org/locations/49/   \n",
      "78  https://www.chipublib.org/locations/18/   \n",
      "79  https://www.chipublib.org/locations/70/   \n",
      "80  https://www.chipublib.org/locations/64/   \n",
      "\n",
      "                                    LOCATION                    geometry  \n",
      "0    (41.70283443594318, -87.61428978448026)  POINT (-87.61429 41.70283)  \n",
      "1    (41.97557881655979, -87.71361314512697)  POINT (-87.71361 41.97558)  \n",
      "2    (41.746393038286826, -87.5860053710736)  POINT (-87.58601 41.74639)  \n",
      "3    (41.73244482025524, -87.65772892721816)  POINT (-87.65773 41.73244)  \n",
      "4   (41.897484072390675, -87.62337776811282)  POINT (-87.62338 41.89748)  \n",
      "..                                       ...                         ...  \n",
      "76  (41.720694885749005, -87.64304817213312)  POINT (-87.64305 41.72069)  \n",
      "77    (41.968242773953044, -87.737968778247)  POINT (-87.73797 41.96824)  \n",
      "78    (41.82824306445502, -87.6263495444489)  POINT (-87.62635 41.82824)  \n",
      "79   (41.95832305807637, -87.65424744448335)  POINT (-87.65425 41.95832)  \n",
      "80   (41.79476901885989, -87.65502837616037)  POINT (-87.65503 41.79477)  \n",
      "\n",
      "[81 rows x 10 columns]\n"
     ]
    }
   ],
   "source": [
    "from shapely import Point\n",
    "\n",
    "# Convert string to Point geometry\n",
    "def convert_to_point(location_str):\n",
    "    lat, lon = eval(location_str)\n",
    "    return Point(lon, lat)\n",
    "\n",
    "# Apply the conversion function to create the geometry column\n",
    "libraries['geometry'] = libraries['LOCATION'].apply(convert_to_point)\n",
    "\n",
    "# Convert DataFrame to GeoDataFrame\n",
    "geo_libraries = gpd.GeoDataFrame(libraries, geometry='geometry')\n",
    "\n",
    "# Now you can work with `geo_libraries` as a GeoDataFrame\n",
    "print(geo_libraries)"
   ]
  },
  {
   "cell_type": "code",
   "execution_count": 6,
   "metadata": {},
   "outputs": [
    {
     "data": {
      "text/html": [
       "<div>\n",
       "<style scoped>\n",
       "    .dataframe tbody tr th:only-of-type {\n",
       "        vertical-align: middle;\n",
       "    }\n",
       "\n",
       "    .dataframe tbody tr th {\n",
       "        vertical-align: top;\n",
       "    }\n",
       "\n",
       "    .dataframe thead th {\n",
       "        text-align: right;\n",
       "    }\n",
       "</style>\n",
       "<table border=\"1\" class=\"dataframe\">\n",
       "  <thead>\n",
       "    <tr style=\"text-align: right;\">\n",
       "      <th></th>\n",
       "      <th>id</th>\n",
       "      <th>Short_Name</th>\n",
       "      <th>Address</th>\n",
       "      <th>Grades</th>\n",
       "      <th>Lat</th>\n",
       "      <th>Long</th>\n",
       "      <th>COMMAREA</th>\n",
       "      <th>geometry</th>\n",
       "    </tr>\n",
       "  </thead>\n",
       "  <tbody>\n",
       "    <tr>\n",
       "      <th>0</th>\n",
       "      <td>400009</td>\n",
       "      <td>GLOBAL CITIZENSHIP</td>\n",
       "      <td>4647 W 47TH ST</td>\n",
       "      <td>K, 1, 2, 3, 4, 5, 6, 7, 8</td>\n",
       "      <td>41.807579</td>\n",
       "      <td>-87.740097</td>\n",
       "      <td>GARFIELD RIDGE</td>\n",
       "      <td>POINT (-87.74010 41.80758)</td>\n",
       "    </tr>\n",
       "    <tr>\n",
       "      <th>1</th>\n",
       "      <td>400010</td>\n",
       "      <td>ACE TECH HS</td>\n",
       "      <td>5410 S STATE ST</td>\n",
       "      <td>9, 10, 11, 12</td>\n",
       "      <td>41.796122</td>\n",
       "      <td>-87.625849</td>\n",
       "      <td>WASHINGTON PARK</td>\n",
       "      <td>POINT (-87.62585 41.79612)</td>\n",
       "    </tr>\n",
       "    <tr>\n",
       "      <th>2</th>\n",
       "      <td>400011</td>\n",
       "      <td>LOCKE A</td>\n",
       "      <td>3141 W JACKSON BLVD</td>\n",
       "      <td>K, 1, 2, 3, 4, 5, 6, 7, 8</td>\n",
       "      <td>41.877248</td>\n",
       "      <td>-87.705235</td>\n",
       "      <td>EAST GARFIELD PARK</td>\n",
       "      <td>POINT (-87.70523 41.87725)</td>\n",
       "    </tr>\n",
       "    <tr>\n",
       "      <th>3</th>\n",
       "      <td>400013</td>\n",
       "      <td>ASPIRA - EARLY COLLEGE HS</td>\n",
       "      <td>3986 W BARRY AVE</td>\n",
       "      <td>9, 10, 11, 12</td>\n",
       "      <td>41.937298</td>\n",
       "      <td>-87.727096</td>\n",
       "      <td>AVONDALE</td>\n",
       "      <td>POINT (-87.72710 41.93730)</td>\n",
       "    </tr>\n",
       "    <tr>\n",
       "      <th>4</th>\n",
       "      <td>400017</td>\n",
       "      <td>ASPIRA - HAUGAN</td>\n",
       "      <td>3729 W LELAND AVE</td>\n",
       "      <td>6, 7, 8</td>\n",
       "      <td>41.966406</td>\n",
       "      <td>-87.721825</td>\n",
       "      <td>ALBANY PARK</td>\n",
       "      <td>POINT (-87.72182 41.96641)</td>\n",
       "    </tr>\n",
       "  </tbody>\n",
       "</table>\n",
       "</div>"
      ],
      "text/plain": [
       "       id                 Short_Name              Address  \\\n",
       "0  400009         GLOBAL CITIZENSHIP       4647 W 47TH ST   \n",
       "1  400010                ACE TECH HS      5410 S STATE ST   \n",
       "2  400011                    LOCKE A  3141 W JACKSON BLVD   \n",
       "3  400013  ASPIRA - EARLY COLLEGE HS     3986 W BARRY AVE   \n",
       "4  400017            ASPIRA - HAUGAN    3729 W LELAND AVE   \n",
       "\n",
       "                      Grades        Lat       Long            COMMAREA  \\\n",
       "0  K, 1, 2, 3, 4, 5, 6, 7, 8  41.807579 -87.740097      GARFIELD RIDGE   \n",
       "1              9, 10, 11, 12  41.796122 -87.625849     WASHINGTON PARK   \n",
       "2  K, 1, 2, 3, 4, 5, 6, 7, 8  41.877248 -87.705235  EAST GARFIELD PARK   \n",
       "3              9, 10, 11, 12  41.937298 -87.727096            AVONDALE   \n",
       "4                    6, 7, 8  41.966406 -87.721825         ALBANY PARK   \n",
       "\n",
       "                     geometry  \n",
       "0  POINT (-87.74010 41.80758)  \n",
       "1  POINT (-87.62585 41.79612)  \n",
       "2  POINT (-87.70523 41.87725)  \n",
       "3  POINT (-87.72710 41.93730)  \n",
       "4  POINT (-87.72182 41.96641)  "
      ]
     },
     "execution_count": 6,
     "metadata": {},
     "output_type": "execute_result"
    }
   ],
   "source": [
    "schools.head()"
   ]
  },
  {
   "cell_type": "code",
   "execution_count": null,
   "metadata": {},
   "outputs": [],
   "source": [
    "#candidates = load.add_phc(chicago, graph, selected_blocks)\n",
    "#fig = plot.add_phc(fig, phc_df)\n",
    "#fig.show()"
   ]
  },
  {
   "cell_type": "code",
   "execution_count": 7,
   "metadata": {},
   "outputs": [
    {
     "data": {
      "text/plain": [
       "{'boundary_node': False,\n",
       " 'area': 5.215014999926553e-07,\n",
       " 'STATEFP20': '17',\n",
       " 'COUNTYFP20': '031',\n",
       " 'TRACTCE20': '160800',\n",
       " 'BLOCKCE20': '4011',\n",
       " 'GEOID20': '170311608004011',\n",
       " 'ALAND20': 4803,\n",
       " 'C_X': -87.71486363395856,\n",
       " 'C_Y': 41.95047205837281,\n",
       " 'pop': 27,\n",
       " 'phc': 0}"
      ]
     },
     "execution_count": 7,
     "metadata": {},
     "output_type": "execute_result"
    }
   ],
   "source": [
    "graph = handler.load_graph()\n",
    "\n",
    "node = random.choice(list(graph.nodes))\n",
    "graph.nodes[node]"
   ]
  },
  {
   "cell_type": "code",
   "execution_count": 9,
   "metadata": {},
   "outputs": [
    {
     "data": {
      "text/plain": [
       "0         22984\n",
       "1         22985\n",
       "2         22986\n",
       "3         22987\n",
       "4         22989\n",
       "          ...  \n",
       "39516    362595\n",
       "39517    362596\n",
       "39518    362732\n",
       "39519    363152\n",
       "39520    363197\n",
       "Name: id, Length: 39521, dtype: object"
      ]
     },
     "execution_count": 9,
     "metadata": {},
     "output_type": "execute_result"
    }
   ],
   "source": [
    "chicago['id']"
   ]
  },
  {
   "cell_type": "code",
   "execution_count": 10,
   "metadata": {},
   "outputs": [],
   "source": [
    "from shapely.geometry import Point, Polygon"
   ]
  },
  {
   "cell_type": "code",
   "execution_count": 11,
   "metadata": {},
   "outputs": [],
   "source": [
    "geometries = {}\n",
    "for index, row in chicago.iterrows():\n",
    "    geometries[index] = row['geometry']"
   ]
  },
  {
   "cell_type": "code",
   "execution_count": 12,
   "metadata": {},
   "outputs": [],
   "source": [
    "for node in graph.nodes:\n",
    "    # Check if the node exists in the geometries dictionary\n",
    "    if node in geometries:\n",
    "        if any(geometries[node].contains(point) for point in schools['geometry']):\n",
    "            graph.nodes[node]['real_phc'] = True\n",
    "        else:\n",
    "            graph.nodes[node]['real_phc'] = False\n",
    "    else:\n",
    "        # Handle the case where no geometry is defined for the node\n",
    "        graph.nodes[node]['real_phc'] = False\n",
    "        print(f\"No geometry found for node {node}\")\n"
   ]
  },
  {
   "cell_type": "code",
   "execution_count": 13,
   "metadata": {},
   "outputs": [],
   "source": [
    "# Node shapely geometry\n",
    "for node in graph.nodes:\n",
    "        \n",
    "    if any(geometries[node].contains(point) for point in geo_libraries['geometry']):\n",
    "        graph.nodes[node]['real_phc'] = True"
   ]
  },
  {
   "cell_type": "code",
   "execution_count": 14,
   "metadata": {},
   "outputs": [
    {
     "data": {
      "text/plain": [
       "693"
      ]
     },
     "execution_count": 14,
     "metadata": {},
     "output_type": "execute_result"
    }
   ],
   "source": [
    "count = 0 \n",
    "for node in graph.nodes:\n",
    "    if graph.nodes[node]['real_phc']==True:\n",
    "        count+=1\n",
    "        \n",
    "count"
   ]
  },
  {
   "cell_type": "code",
   "execution_count": 13,
   "metadata": {},
   "outputs": [
    {
     "data": {
      "text/plain": [
       "{'boundary_node': False,\n",
       " 'area': 7.904144999979941e-07,\n",
       " 'STATEFP20': '17',\n",
       " 'COUNTYFP20': '031',\n",
       " 'TRACTCE20': '840200',\n",
       " 'BLOCKCE20': '1041',\n",
       " 'GEOID20': '170318402001041',\n",
       " 'ALAND20': 7291,\n",
       " 'C_X': -87.6424472502809,\n",
       " 'C_Y': 41.845612936281114,\n",
       " 'pop': 67,\n",
       " 'phc': 0,\n",
       " 'real_phc': False}"
      ]
     },
     "execution_count": 13,
     "metadata": {},
     "output_type": "execute_result"
    }
   ],
   "source": [
    "node = random.choice(list(graph.nodes))\n",
    "graph.nodes[node]"
   ]
  },
  {
   "cell_type": "code",
   "execution_count": 2,
   "metadata": {},
   "outputs": [],
   "source": [
    "from data_utils import DataHandler\n",
    "handler = DataHandler()\n",
    "\n",
    "lib = handler.load_geo_libraries()\n",
    "sch = handler.load_geo_schools()"
   ]
  },
  {
   "cell_type": "code",
   "execution_count": 61,
   "metadata": {},
   "outputs": [],
   "source": [
    "# Concatenate DataFrames along rows (axis=0)\n",
    "merged = pd.concat([sch, lib], axis=0, ignore_index=True)\n",
    "\n",
    "\n"
   ]
  },
  {
   "cell_type": "code",
   "execution_count": 26,
   "metadata": {},
   "outputs": [],
   "source": [
    "file_path = '/Users/kirtisoglu/Documents/GitHub/Allocation-of-Primary-Care-Centers-in-Chicago/prepared_data/geo_libraries.pkl'\n",
    "with open(file_path, 'wb') as file:\n",
    "                pickle.dump(geo_libraries, file)"
   ]
  },
  {
   "cell_type": "code",
   "execution_count": 68,
   "metadata": {},
   "outputs": [],
   "source": [
    "import pickle\n",
    "file_path = '/Users/kirtisoglu/Documents/GitHub/Allocation-of-Primary-Care-Centers-in-Chicago/prepared_data/geo_candidates.pkl'\n",
    "with open(file_path, 'wb') as file:\n",
    "                pickle.dump(merged, file)"
   ]
  },
  {
   "cell_type": "markdown",
   "metadata": {},
   "source": [
    "# Artificial Candidates"
   ]
  },
  {
   "cell_type": "code",
   "execution_count": null,
   "metadata": {},
   "outputs": [],
   "source": [
    "# Lately, we relaize that there is no enough candidates aroung Chicago O'Hare Airport.\n",
    "# We select some census blocks manually from the map, save their centroids as artifical candidates\n",
    "# and merge them into geo_canidates."
   ]
  },
  {
   "cell_type": "code",
   "execution_count": 3,
   "metadata": {},
   "outputs": [],
   "source": [
    "import pickle\n",
    "\n",
    "handler = DataHandler()\n",
    "graph = handler.load_graph()\n",
    "newtravel = handler.load_newtravel()\n",
    "chicago = handler.load_chicago()\n",
    "geo_candidates = handler.load_geo_candidates()\n",
    "candidates = handler.load_candidates()"
   ]
  },
  {
   "cell_type": "code",
   "execution_count": null,
   "metadata": {},
   "outputs": [],
   "source": [
    "\"Artificial candidates\"\n",
    "artificial_candidates = {32681, 516, 2973, 24279, 29, 32306, 8289}\n",
    "\n",
    "# Create a new GeoDataFrame for artificial_candidates\n",
    "artificial_candidates_data = {\n",
    "    'block': list(artificial_candidates),\n",
    "    'geometry': [chicago.loc[block, 'centroid'] for block in artificial_candidates]\n",
    "}\n",
    "\n",
    "geo_artificial_candidates = gpd.GeoDataFrame(artificial_candidates_data, geometry='geometry')\n",
    "\n",
    "geo_candidates['artificial'] = False\n",
    "geo_artificial_candidates['artificial'] = True \n",
    "\n",
    "# Set the CRS for geo_artificial_candidates\n",
    "geo_artificial_candidates.set_crs(geo_candidates.crs, inplace=True)\n",
    "\n",
    "# Concatenate the new GeoDataFrame with geo_candidates\n",
    "geo_candidates = pd.concat([geo_candidates, geo_artificial_candidates], ignore_index=True)\n",
    "\n",
    "# Reset index of geo_candidates if needed\n",
    "geo_candidates.reset_index(drop=True, inplace=True)\n",
    "\n",
    "import pickle\n",
    "file_path = '/Users/kirtisoglu/Documents/GitHub/Allocation-of-Primary-Care-Centers-in-Chicago/prepared_data/geo_artificial_candidates.pkl'\n",
    "with open(file_path, 'wb') as file:\n",
    "                pickle.dump(geo_artificial_candidates, file)\n",
    "\n",
    "file_path = '/Users/kirtisoglu/Documents/GitHub/Allocation-of-Primary-Care-Centers-in-Chicago/prepared_data/geo_candidates.pkl'\n",
    "with open(file_path, 'wb') as file:\n",
    "                pickle.dump(geo_candidates, file)"
   ]
  },
  {
   "cell_type": "code",
   "execution_count": null,
   "metadata": {},
   "outputs": [],
   "source": [
    "# edit other datasets              \n",
    "for node in artificial_candidates:\n",
    "    graph.nodes[node]['real_phc'] = True\n",
    "\n",
    "file_path = '/Users/kirtisoglu/Documents/GitHub/Allocation-of-Primary-Care-Centers-in-Chicago/prepared_data/ggraph.pkl'\n",
    "with open(file_path, 'wb') as file:\n",
    "                pickle.dump(graph, file)\n",
    "\n",
    "\n",
    "from travel_time import travel_time_to_source\n",
    "\n",
    "for source in artificial_candidates:\n",
    "    to_source = travel_time_to_source(graph, source)\n",
    "    for i in graph.nodes:\n",
    "        newtravel[(i, source)] = to_source[i]\n",
    "        \n",
    "file_path = '/Users/kirtisoglu/Documents/GitHub/Allocation-of-Primary-Care-Centers-in-Chicago/prepared_data/newtravel.pkl.gz'\n",
    "with open(file_path, 'wb') as file:\n",
    "                pickle.dump(newtravel, file)\n",
    "                \n",
    "candidates = candidates.union(artificial_candidates)\n",
    "file_path = '/Users/kirtisoglu/Documents/GitHub/Allocation-of-Primary-Care-Centers-in-Chicago/prepared_data/candidates.pkl'\n",
    "with open(file_path, 'wb') as file:\n",
    "                pickle.dump(candidates, file)"
   ]
  },
  {
   "cell_type": "markdown",
   "metadata": {},
   "source": [
    "# Scale Areas "
   ]
  },
  {
   "cell_type": "code",
   "execution_count": null,
   "metadata": {},
   "outputs": [],
   "source": [
    "# We scale utm areas in such a way that density of a spanning tree is 1.\n",
    "\n",
    "def scale_areas(n_teams, pop_col=None):\n",
    "    # change the name of the population attribute\n",
    "    pop_target = pop / n_teams\n",
    "    pop = sum(graph.nodes[node][pop_col] for node in graph.nodes)\n",
    "    sum_utm = sum(graph.nodes[node]['area'] for node in graph.nodes)\n",
    "    factor = pop / sum_utm\n",
    "\n",
    "    for node in graph.nodes:\n",
    "        graph.nodes[node]['area_scaled'] = graph.nodes[node]['area']*factor \n",
    "        \n",
    "    return"
   ]
  }
 ],
 "metadata": {
  "kernelspec": {
   "display_name": "Allocation-of-Primary-Care-Centers-in-Chic-LgtmrD4y",
   "language": "python",
   "name": "python3"
  },
  "language_info": {
   "codemirror_mode": {
    "name": "ipython",
    "version": 3
   },
   "file_extension": ".py",
   "mimetype": "text/x-python",
   "name": "python",
   "nbconvert_exporter": "python",
   "pygments_lexer": "ipython3",
   "version": "3.12.2"
  }
 },
 "nbformat": 4,
 "nbformat_minor": 2
}
