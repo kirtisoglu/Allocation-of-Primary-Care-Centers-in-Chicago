{
 "cells": [
  {
   "cell_type": "code",
   "execution_count": null,
   "metadata": {},
   "outputs": [],
   "source": [
    "import matplotlib.pyplot as mplt\n",
    "import pandas as pd\n",
    "import numpy as np\n",
    "import geopandas as gpd\n",
    "from functools import partial\n",
    "#from tqdm import tqdm\n",
    "\n",
    "from helper import DataHandler, Plot, plot_grid\n",
    "from functools import partial\n",
    "\n",
    "from partition import Partition\n",
    "from markovchain import SingleMetricOptimizer\n",
    "\n",
    "from markovchain import recom\n",
    "\n",
    "from falcomchain.grid import Grid\n"
   ]
  },
  {
   "cell_type": "code",
   "execution_count": null,
   "metadata": {},
   "outputs": [
    {
     "ename": "ModuleNotFoundError",
     "evalue": "No module named 'graph'",
     "output_type": "error",
     "traceback": [
      "\u001b[0;31m---------------------------------------------------------------------------\u001b[0m",
      "\u001b[0;31mModuleNotFoundError\u001b[0m                       Traceback (most recent call last)",
      "Cell \u001b[0;32mIn[1], line 1\u001b[0m\n\u001b[0;32m----> 1\u001b[0m \u001b[38;5;28;01mfrom\u001b[39;00m \u001b[38;5;21;01mgraph\u001b[39;00m\u001b[38;5;21;01m.\u001b[39;00m\u001b[38;5;21;01mgraph\u001b[39;00m \u001b[38;5;28;01mimport\u001b[39;00m Graph\n\u001b[1;32m      2\u001b[0m \u001b[38;5;28;01mimport\u001b[39;00m \u001b[38;5;21;01mnetworkx\u001b[39;00m \u001b[38;5;28;01mas\u001b[39;00m \u001b[38;5;21;01mnx\u001b[39;00m\n\u001b[1;32m      4\u001b[0m \u001b[38;5;28;01mdef\u001b[39;00m \u001b[38;5;21mtree_with_twenty_nodes\u001b[39m():\n",
      "\u001b[0;31mModuleNotFoundError\u001b[0m: No module named 'graph'"
     ]
    }
   ],
   "source": [
    "from graph import Graph\n",
    "import networkx as nx\n",
    "from graph import Graph\n",
    "\n",
    "def tree_with_twenty_nodes():\n",
    "    \"\"\"Returns a tree that looks like this:\n",
    "    \n",
    "    1 - 2 - 3 - 4\n",
    "        |       |\n",
    "    5 - 6 - 7   8 - 9 - 10\n",
    "    |       |       |\n",
    "    11-12   13      14\n",
    "    |\n",
    "    15-16-17\n",
    "    |\n",
    "    18-19\n",
    "    |\n",
    "    20\n",
    "    \n",
    "    \"\"\"\n",
    "    graph = Graph()\n",
    "    graph.add_edges_from(\n",
    "        [\n",
    "            (1, 2),(2, 3),(3, 4),\n",
    "            (2, 6),(4, 8),\n",
    "            (5, 6),(6, 7),(8, 9),(9, 10),\n",
    "            (5, 11),(7, 13),(9, 14),\n",
    "            (11, 12),\n",
    "            (11, 15),\n",
    "            (15, 16),(16, 17),\n",
    "            (15, 18),\n",
    "            (18, 19),\n",
    "            (18, 20),\n",
    "        ]\n",
    "    )\n",
    "    return graph\n",
    "\n",
    "def find_successors(graph: Graph, root):\n",
    "        return {a: b for a, b in nx.bfs_successors(graph, root)}\n",
    "\n",
    "h = tree_with_twenty_nodes()\n",
    "succ = find_successors(graph=h, root=2)\n",
    "print(succ)"
   ]
  },
  {
   "cell_type": "code",
   "execution_count": null,
   "metadata": {},
   "outputs": [],
   "source": [
    "grid_half = Grid(dimensions=(20,20), num_candidates=50, density='opposite', threshold=(10,0))\n",
    "graph_half = grid_half.graph\n",
    "plot_grid(grid_half.graph)"
   ]
  },
  {
   "cell_type": "code",
   "execution_count": null,
   "metadata": {},
   "outputs": [],
   "source": [
    "grid_uniform = Grid(dimensions=(20,20), num_candidates=50, density='uniform', threshold=(10,0))\n",
    "graph_uniform = grid_uniform.graph\n",
    "plot_grid(grid_uniform.graph)"
   ]
  },
  {
   "cell_type": "code",
   "execution_count": null,
   "metadata": {},
   "outputs": [],
   "source": [
    "grid_opposite = Grid(dimensions=(20,20), num_candidates=50, density='opposite', threshold=(10,10))\n",
    "graph_opposite = grid_opposite.graph\n",
    "plot_grid(grid_opposite.graph)"
   ]
  },
  {
   "cell_type": "code",
   "execution_count": null,
   "metadata": {},
   "outputs": [],
   "source": [
    "# if k_1 <= x <= m - k_1 or k_2 <= y <= n - k_2, then pop is 30. Here, theresold = (k_1, k_2) and dimensions=(m,n)\n",
    "grid_corners = Grid(dimensions=(20,20), num_candidates=50, density='corners', threshold=(5, 5))\n",
    "graph_corners = grid_corners.graph\n",
    "plot_grid(grid_corners.graph)"
   ]
  },
  {
   "cell_type": "code",
   "execution_count": 6,
   "metadata": {},
   "outputs": [],
   "source": [
    "import travel_time as travel\n",
    "\n",
    "def travel_times(graph):\n",
    "    candidates = {node for node in graph.nodes if graph.nodes[node]['candidate']==True}\n",
    "    for u, v in graph.edges():\n",
    "        graph[u][v]['time'] = 10\n",
    "    travels = travel.travel_time(graph, candidates)\n",
    "    return travels\n",
    "\n",
    "travels = travel_times(graph_half)"
   ]
  },
  {
   "cell_type": "code",
   "execution_count": 5,
   "metadata": {},
   "outputs": [],
   "source": [
    "\"Initial partition\"\n",
    "pop = sum(graph.nodes[node]['population'] for node in graph.nodes)\n",
    "area = sum(graph.nodes[node]['area'] for node in graph.nodes)   \n",
    "#area \n",
    "#avg_density = area / pop\n",
    "\n",
    "# nodelarin density check i burda yapilip sonuc attribute olarak atansin. Attribute ismi simdilik density\n",
    "\n",
    "column_names = ['population', 'area', 'candidate', 'avg_density'] # avg_density attribute ata. If density is not considered, then we have to pass false.\n",
    "#check_density = ?\n",
    "\n",
    "import partition\n",
    "my_updaters = {\n",
    "    \"population\": partition.Tally(column_names[0], alias=\"population\"),\n",
    "    \"cut_edges\": partition.cut_edges,\n",
    "    \"perimeter\": partition.perimeter,\n",
    "    \"area\": partition.Tally(\"area\", alias=\"area\"),}"
   ]
  },
  {
   "cell_type": "code",
   "execution_count": null,
   "metadata": {},
   "outputs": [],
   "source": [
    "initial_solution = Partition.from_random_assignment(\n",
    "travel_times=travels,\n",
    "graph=graph,\n",
    "capacity_level = 1,\n",
    "epsilon=0.01,\n",
    "column_names = column_names,\n",
    "pop_target = pop // 4,\n",
    "#density = 0.5,\n",
    "updaters=my_updaters)"
   ]
  }
 ],
 "metadata": {
  "kernelspec": {
   "display_name": "Allocation-of-Primary-Care-Centers-in-Chic-LgtmrD4y",
   "language": "python",
   "name": "python3"
  },
  "language_info": {
   "codemirror_mode": {
    "name": "ipython",
    "version": 3
   },
   "file_extension": ".py",
   "mimetype": "text/x-python",
   "name": "python",
   "nbconvert_exporter": "python",
   "pygments_lexer": "ipython3",
   "version": "3.12.2"
  }
 },
 "nbformat": 4,
 "nbformat_minor": 2
}
