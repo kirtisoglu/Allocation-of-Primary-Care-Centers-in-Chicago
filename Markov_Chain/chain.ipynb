{
 "cells": [
  {
   "cell_type": "markdown",
   "metadata": {},
   "source": [
    "0. Error classes.\n",
    "\n",
    "1. Pick open facilities from candidate locations. We may have an algorithm here to eliminate some possible combinations\n",
    "\n",
    "    Inputs: \n",
    "\n",
    "2. Obtain an initial solution for the selected open facilities. Create balanced disttricts iteratively. Validity check for population equality.\n",
    "\n",
    "    Inputs: graph, populations, travel times. Output: partition, assignment, cut edges, induced subgraphs.\n",
    "\n",
    "3. Recom: selecting a pair of districts, recombining and repartitioning, validty check.  \n",
    "\n",
    "    Inputs: partition with its outputs, \n",
    "\n",
    "4. Markov chain class / function\n",
    "\n",
    "5. Run the chain. Analyse it. \n",
    "\n",
    "** Frozen graph?"
   ]
  },
  {
   "cell_type": "code",
   "execution_count": 1,
   "metadata": {},
   "outputs": [],
   "source": [
    "import pandas as pd\n",
    "import numpy as np\n",
    "import geopandas as gpd\n",
    "import networkx as nx\n",
    "import plotly.express as px\n",
    "import plotly.io as pio\n",
    "\n",
<<<<<<< Updated upstream
    "from data_utils import assign, load_data, plot\n",
    "from prepared_data import load\n",
    "import Partition, recom, tree\n"
=======
    "from data_utils import assign, DataHandler, plot\n",
    "from prepared_data import load\n",
    "import Partition, recom, tree\n",
    "import pickle\n",
    "import gzip\n",
    "\n"
>>>>>>> Stashed changes
   ]
  },
  {
   "cell_type": "markdown",
   "metadata": {},
   "source": [
    "# Load Data"
   ]
  },
  {
   "cell_type": "code",
   "execution_count": 2,
   "metadata": {},
   "outputs": [],
   "source": [
    "# Load graph\n",
    "#graph_data = load('graph')  # No need to specify '.pkl'"
   ]
  },
  {
   "cell_type": "code",
<<<<<<< Updated upstream
   "execution_count": 3,
=======
   "execution_count": 2,
>>>>>>> Stashed changes
   "metadata": {},
   "outputs": [],
   "source": [
    "# Load graph\n",
<<<<<<< Updated upstream
    "graph = load_data(file_path='/Users/kirtisoglu/Documents/GitHub/Allocation-of-Primary-Care-Centers-in-Chicago/prepared_data/graph.pkl')\n",
    "# Load candidate facilities\n",
    "candidates = load_data(file_path='/Users/kirtisoglu/Documents/GitHub/Allocation-of-Primary-Care-Centers-in-Chicago/prepared_data/candidates.pkl')\n",
    "# Load chicago geodataframe\n",
    "chicago = load_data('/Users/kirtisoglu/Documents/GitHub/Allocation-of-Primary-Care-Centers-in-Chicago/prepared_data/chicago.pkl')\n",
    "# Load travel times\n",
    "travel_times = load_data(file_path='/Users/kirtisoglu/Documents/GitHub/Allocation-of-Primary-Care-Centers-in-Chicago/prepared_data/travel_times.pkl.gz')"
=======
    "handler = DataHandler()\n",
    "\n",
    "graph = handler.load_graph()\n",
    "# Load candidate facilities\n",
    "candidates = handler.load_candidates()\n",
    "# Load chicago geodataframe\n",
    "chicago = handler.load_chicago()\n",
    "# Load travel times\n",
    "#travel_times = load(file_path='/Users/kirtisoglu/Documents/GitHub/Allocation-of-Primary-Care-Centers-in-Chicago/prepared_data/travel_times.pkl.gz')"
   ]
  },
  {
   "cell_type": "code",
   "execution_count": 4,
   "metadata": {},
   "outputs": [],
   "source": [
    "with gzip.open('/Users/kirtisoglu/Documents/GitHub/Allocation-of-Primary-Care-Centers-in-Chicago/prepared_data/travel_times.pkl.gz', 'rb') as file:\n",
    "    travel_time=pickle.load(file)"
>>>>>>> Stashed changes
   ]
  },
  {
   "cell_type": "markdown",
   "metadata": {},
   "source": [
    "# Initial Solution"
   ]
  },
  {
   "cell_type": "code",
<<<<<<< Updated upstream
   "execution_count": 4,
=======
   "execution_count": 5,
>>>>>>> Stashed changes
   "metadata": {},
   "outputs": [],
   "source": [
    "k_ms = 100\n",
    "#partitioned_tree, spanning_tree, clusterim, populations, total_travel, open_facilities = old.generate_initial_partition_seed(graph, candidates, travel_times, k_ms)\n",
    "#initial_data = partitioned_tree, spanning_tree, clusterim, populations, total_travel, open_facilities \n",
    "#load.cache_data(initial_data, file_path='prepared_data/initial_data.pkl', method='pickle')\n",
<<<<<<< Updated upstream
    "initial_data = load_data('/Users/kirtisoglu/Documents/GitHub/Allocation-of-Primary-Care-Centers-in-Chicago/prepared_data/initial_data.pkl')\n",
=======
    "initial_data = handler.load_initial_data()\n",
>>>>>>> Stashed changes
    "partitioned_tree, spanning_tree, clusterim, populations, total_travel, open_facilities = initial_data"
   ]
  },
  {
   "cell_type": "code",
<<<<<<< Updated upstream
   "execution_count": 5,
=======
   "execution_count": 6,
>>>>>>> Stashed changes
   "metadata": {},
   "outputs": [],
   "source": [
    "assign(graph, chicago, clusterim, attribute='initial_cluster', question='is_initial_center')\n",
    "#plot.districts(chicago, open_facilities, attribute='initial_cluster')"
   ]
  },
  {
   "cell_type": "markdown",
   "metadata": {},
   "source": [
    "# Markov Chain"
   ]
  },
  {
   "cell_type": "markdown",
   "metadata": {},
   "source": [
    "Example usage:\n",
    "\n",
    "from functools import partial\n",
    "\n",
    "from gerrychain import MarkovChain\n",
    "\n",
    "from gerrychain.proposals import recom\n",
    "\n",
    "...define constraints, accept, partition, total_steps here...\n",
    "\n",
    "Ideal population: pop_target = sum(populations.values()) / len(partition.keys())\n",
    "\n",
    "proposal = partial(recom, pop=populations, pop_target=pop_target, epsilon=.05, node_repeats=10)\n",
    "\n",
    "chain = MarkovChain(proposal, constraints, accept, partition, total_steps)"
   ]
  },
  {
   "cell_type": "code",
<<<<<<< Updated upstream
   "execution_count": 6,
=======
   "execution_count": 7,
>>>>>>> Stashed changes
   "metadata": {},
   "outputs": [],
   "source": [
    "total = sum(populations[center] for center in populations.keys())"
   ]
  },
  {
   "cell_type": "code",
<<<<<<< Updated upstream
   "execution_count": 7,
   "metadata": {},
   "outputs": [
    {
     "data": {
      "text/plain": [
       "2783891"
      ]
     },
     "execution_count": 7,
     "metadata": {},
     "output_type": "execute_result"
    }
   ],
   "source": [
    "total"
   ]
  },
  {
   "cell_type": "code",
=======
>>>>>>> Stashed changes
   "execution_count": 8,
   "metadata": {},
   "outputs": [
    {
<<<<<<< Updated upstream
     "name": "stdout",
     "output_type": "stream",
     "text": [
      "node_list deque([])\n",
      "node_list deque([])\n",
      "successors[node] {38316}\n",
      "child 38316\n",
      "node_list deque([])\n",
      "successors[node] {26885, 38942}\n",
      "child 26885\n",
      "child is not in excluded tree\n",
      "node_list deque([])\n",
      "while node_list deque([26885])\n",
      "subnode 26885\n",
      "subtree_nodes[node] {38943}\n",
      "node 38943\n",
      "subtree_nodes {38943: {38943}}\n",
      "while node_list deque([{514}])\n",
      "subnode {514}\n",
      "subtree_nodes[node] {26885, 38943}\n",
      "node 38943\n",
      "subtree_nodes {38943: {26885, 38943}}\n"
     ]
    },
    {
     "ename": "TypeError",
     "evalue": "unhashable type: 'set'",
     "output_type": "error",
     "traceback": [
      "\u001b[0;31m---------------------------------------------------------------------------\u001b[0m",
      "\u001b[0;31mTypeError\u001b[0m                                 Traceback (most recent call last)",
      "Cell \u001b[0;32mIn[8], line 1\u001b[0m\n\u001b[0;32m----> 1\u001b[0m \u001b[43mtree\u001b[49m\u001b[38;5;241;43m.\u001b[39;49m\u001b[43mrecursive_partition\u001b[49m\u001b[43m(\u001b[49m\u001b[43mgraph\u001b[49m\u001b[43m,\u001b[49m\u001b[43m \u001b[49m\u001b[43mnum_centers\u001b[49m\u001b[38;5;241;43m=\u001b[39;49m\u001b[43m \u001b[49m\u001b[38;5;241;43m100\u001b[39;49m\u001b[43m,\u001b[49m\u001b[43m \u001b[49m\u001b[43mtotal_pop\u001b[49m\u001b[38;5;241;43m=\u001b[39;49m\u001b[43m \u001b[49m\u001b[43mtotal\u001b[49m\u001b[43m,\u001b[49m\u001b[43m \u001b[49m\u001b[43mepsilon\u001b[49m\u001b[38;5;241;43m=\u001b[39;49m\u001b[38;5;241;43m0.15\u001b[39;49m\u001b[43m,\u001b[49m\u001b[43m \u001b[49m\u001b[43mmax_attempts\u001b[49m\u001b[38;5;241;43m=\u001b[39;49m\u001b[38;5;241;43m50\u001b[39;49m\u001b[43m)\u001b[49m\n",
      "File \u001b[0;32m~/Documents/GitHub/Allocation-of-Primary-Care-Centers-in-Chicago/Markov_Chain/tree.py:344\u001b[0m, in \u001b[0;36mrecursive_partition\u001b[0;34m(graph, num_centers, total_pop, epsilon, max_attempts)\u001b[0m\n\u001b[1;32m    341\u001b[0m epsilon\u001b[38;5;241m=\u001b[39m(max_pop \u001b[38;5;241m-\u001b[39m min_pop) \u001b[38;5;241m/\u001b[39m (\u001b[38;5;241m2\u001b[39m \u001b[38;5;241m*\u001b[39m new_pop_target)\n\u001b[1;32m    343\u001b[0m \u001b[38;5;28;01mtry\u001b[39;00m:\n\u001b[0;32m--> 344\u001b[0m     subtree_nodes, subtree_pop \u001b[38;5;241m=\u001b[39m \u001b[43msplit_district\u001b[49m\u001b[43m(\u001b[49m\u001b[43mgraph\u001b[49m\u001b[38;5;241;43m.\u001b[39;49m\u001b[43msubgraph\u001b[49m\u001b[43m(\u001b[49m\u001b[43mremaining_nodes\u001b[49m\u001b[43m)\u001b[49m\u001b[43m,\u001b[49m\u001b[43m \u001b[49m\u001b[43mnum_centers\u001b[49m\u001b[43m,\u001b[49m\u001b[43m \u001b[49m\n\u001b[1;32m    345\u001b[0m \u001b[43m                                                \u001b[49m\u001b[43mtotal_pop\u001b[49m\u001b[43m,\u001b[49m\u001b[43m \u001b[49m\u001b[43mnew_pop_target\u001b[49m\u001b[43m,\u001b[49m\u001b[43m \u001b[49m\u001b[43mepsilon\u001b[49m\u001b[43m,\u001b[49m\u001b[43m \u001b[49m\u001b[43mmax_attempts\u001b[49m\u001b[43m)\u001b[49m\n\u001b[1;32m    347\u001b[0m \u001b[38;5;28;01mexcept\u001b[39;00m \u001b[38;5;167;01mException\u001b[39;00m:\n\u001b[1;32m    348\u001b[0m     \u001b[38;5;28;01mraise\u001b[39;00m \n",
      "File \u001b[0;32m~/Documents/GitHub/Allocation-of-Primary-Care-Centers-in-Chicago/Markov_Chain/tree.py:276\u001b[0m, in \u001b[0;36msplit_district\u001b[0;34m(graph, num_centers, total_pop, pop_target, epsilon, max_attempts)\u001b[0m\n\u001b[1;32m    274\u001b[0m spanning_tree \u001b[38;5;241m=\u001b[39m uniform_spanning_tree(graph)\n\u001b[1;32m    275\u001b[0m h \u001b[38;5;241m=\u001b[39m PopulatedGraph(spanning_tree, num_centers, total_pop, pop_target, epsilon)\n\u001b[0;32m--> 276\u001b[0m result \u001b[38;5;241m=\u001b[39m \u001b[43mfind_balanced_district\u001b[49m\u001b[43m(\u001b[49m\u001b[43mh\u001b[49m\u001b[43m)\u001b[49m\n\u001b[1;32m    278\u001b[0m \u001b[38;5;28;01mif\u001b[39;00m result \u001b[38;5;241m!=\u001b[39m \u001b[38;5;28;01mNone\u001b[39;00m: \n\u001b[1;32m    279\u001b[0m     \u001b[38;5;28;01mreturn\u001b[39;00m result\n",
      "File \u001b[0;32m~/Documents/GitHub/Allocation-of-Primary-Care-Centers-in-Chicago/Markov_Chain/tree.py:256\u001b[0m, in \u001b[0;36mfind_balanced_district\u001b[0;34m(h)\u001b[0m\n\u001b[1;32m    253\u001b[0m                 \u001b[38;5;28;01mreturn\u001b[39;00m sibling_subtree_nodes, sibling_subtree_pop  \u001b[38;5;66;03m# sibling_subtree_nodes defines a balanced district.\u001b[39;00m\n\u001b[1;32m    255\u001b[0m \u001b[38;5;66;03m# None of siblings is a center. parent is not a center either.\u001b[39;00m\n\u001b[0;32m--> 256\u001b[0m subtree_nodes, subtree_pop \u001b[38;5;241m=\u001b[39m \u001b[43mh\u001b[49m\u001b[38;5;241;43m.\u001b[39;49m\u001b[43msubtree_nodes\u001b[49m\u001b[43m(\u001b[49m\u001b[43mparent\u001b[49m\u001b[43m,\u001b[49m\u001b[43m \u001b[49m\u001b[43msucc\u001b[49m\u001b[43m,\u001b[49m\u001b[43m \u001b[49m\u001b[43mexclude_tree\u001b[49m\u001b[38;5;241;43m=\u001b[39;49m\u001b[43msubtree_nodes\u001b[49m\u001b[43m,\u001b[49m\u001b[43m \u001b[49m\u001b[43mexclude_pop\u001b[49m\u001b[38;5;241;43m=\u001b[39;49m\u001b[43msubtree_pop\u001b[49m\u001b[43m)\u001b[49m \u001b[38;5;66;03m# Exclusion is just for avoiding redundant calculations. \u001b[39;00m\n\u001b[1;32m    257\u001b[0m node \u001b[38;5;241m=\u001b[39m parent\n\u001b[1;32m    258\u001b[0m parent \u001b[38;5;241m=\u001b[39m pred[parent]\n",
      "File \u001b[0;32m~/Documents/GitHub/Allocation-of-Primary-Care-Centers-in-Chicago/Markov_Chain/tree.py:153\u001b[0m, in \u001b[0;36mPopulatedGraph.subtree_nodes\u001b[0;34m(self, node, successors, exclude_tree, exclude_pop)\u001b[0m\n\u001b[1;32m    151\u001b[0m \u001b[38;5;28mprint\u001b[39m(\u001b[38;5;124m\"\u001b[39m\u001b[38;5;124mnode\u001b[39m\u001b[38;5;124m\"\u001b[39m, node)\n\u001b[1;32m    152\u001b[0m \u001b[38;5;28mprint\u001b[39m(\u001b[38;5;124m\"\u001b[39m\u001b[38;5;124msubtree_nodes\u001b[39m\u001b[38;5;124m\"\u001b[39m, subtree_nodes)\n\u001b[0;32m--> 153\u001b[0m \u001b[43msubtree_nodes\u001b[49m\u001b[43m[\u001b[49m\u001b[43mnode\u001b[49m\u001b[43m]\u001b[49m\u001b[38;5;241;43m.\u001b[39;49m\u001b[43madd\u001b[49m\u001b[43m(\u001b[49m\u001b[43msubnode\u001b[49m\u001b[43m)\u001b[49m\n\u001b[1;32m    154\u001b[0m subtree_pop \u001b[38;5;241m+\u001b[39m\u001b[38;5;241m=\u001b[39m \u001b[38;5;28mself\u001b[39m\u001b[38;5;241m.\u001b[39mpopulation[subnode]  \n\u001b[1;32m    155\u001b[0m node_list\u001b[38;5;241m.\u001b[39mappend(successors[subnode])      \n",
      "\u001b[0;31mTypeError\u001b[0m: unhashable type: 'set'"
     ]
    }
   ],
   "source": [
    "tree.recursive_partition(graph, num_centers= 100, total_pop= total, epsilon=0.15, max_attempts=50)"
   ]
  },
  {
   "cell_type": "code",
   "execution_count": null,
   "metadata": {},
   "outputs": [
    {
     "name": "stdout",
     "output_type": "stream",
     "text": [
      "39521\n"
     ]
    }
   ],
   "source": [
    "counter = 0 \n",
    "for node in graph.nodes:\n",
    "    a=graph.nodes[node]['pop']\n",
    "    if isinstance(a, int):\n",
    "        counter +=1\n",
    "print(counter)"
   ]
  },
  {
   "cell_type": "code",
   "execution_count": null,
   "metadata": {},
   "outputs": [
    {
     "data": {
      "text/plain": [
       "{'boundary_node': False,\n",
       " 'area': 1.11821100000549e-06,\n",
       " 'STATEFP20': '17',\n",
       " 'COUNTYFP20': '031',\n",
       " 'TRACTCE20': '561100',\n",
       " 'BLOCKCE20': '4011',\n",
       " 'GEOID20': '170315611004011',\n",
       " 'NAME20': 'Block 4011',\n",
       " 'MTFCC20': 'G5040',\n",
       " 'UR20': 'R',\n",
       " 'UACE20': '',\n",
       " 'UATYPE20': '',\n",
       " 'FUNCSTAT20': 'S',\n",
       " 'ALAND20': 10324,\n",
       " 'AWATER20': 0,\n",
       " 'INTPTLAT20': '+41.7897856',\n",
       " 'INTPTLON20': '-087.7722636',\n",
       " 'C_X': -87.77226355503123,\n",
       " 'C_Y': 41.78978561092107,\n",
       " 'pop': 47,\n",
       " 'phc': 0,\n",
       " 'initial_cluster': 60}"
      ]
     },
     "execution_count": 19,
=======
     "data": {
      "text/plain": [
       "27838.91"
      ]
     },
     "execution_count": 8,
>>>>>>> Stashed changes
     "metadata": {},
     "output_type": "execute_result"
    }
   ],
   "source": [
<<<<<<< Updated upstream
    "import random\n",
    "node = random.choice(list(graph.nodes()))\n",
    "graph.nodes[node]\n"
=======
    "average = total / 100\n",
    "average"
   ]
  },
  {
   "cell_type": "code",
   "execution_count": 9,
   "metadata": {},
   "outputs": [
    {
     "data": {
      "text/plain": [
       "22271.128"
      ]
     },
     "execution_count": 9,
     "metadata": {},
     "output_type": "execute_result"
    }
   ],
   "source": [
    "0.8*average"
   ]
  },
  {
   "cell_type": "code",
   "execution_count": 10,
   "metadata": {},
   "outputs": [
    {
     "data": {
      "text/plain": [
       "4689"
      ]
     },
     "execution_count": 10,
     "metadata": {},
     "output_type": "execute_result"
    }
   ],
   "source": [
    "max(graph.nodes[node]['pop'] for node in graph.nodes)"
   ]
  },
  {
   "cell_type": "markdown",
   "metadata": {},
   "source": [
    "Issue 1. Epsilon is getting to be too small. This avoids new districts after approx 40 iterations. \n",
    "\n",
    "epsilon = 0.08 -> 51 districts\n",
    "\n",
    "epsilon == 0.4 -> 55 districts\n",
    "\n",
    "epsilon - 0.1 -> 46 districts\n",
    "\n",
    "Question: How are we going evaluate the value of a districting?\n",
    "\n",
    "Task 1. Make a function that finds the minimum balanced subgraph of graph with 1 center.\n",
    "\n",
    "Task 2. Don't fix open facilities. Get a subtree with an appropriate population, no matter how many facilities it has. This solves the facility picking issue. Also, we can consider playing with number of doctor nurse teams here.\n",
    "\n",
    "Task 3. Start using real candidate locations.\n",
    "\n",
    "Task 4. Set epsilon very high. Imagine you remerge and resplit two districts: Make pop_target half of sum of their populations. Populations will converge to real pop_target.\n",
    "\n",
    "Idea 1: Dynamically set candidates through the iteration. \n",
    "\n",
    "Idea 2: Eliminate some combinations of candidates to lower the complexity."
   ]
  },
  {
   "cell_type": "code",
   "execution_count": null,
   "metadata": {},
   "outputs": [],
   "source": [
    "districts = tree.recursive_partition(graph, num_centers= 100, total_pop= total, epsilon=0.08, max_attempts=100)"
   ]
  },
  {
   "cell_type": "code",
   "execution_count": 4,
   "metadata": {},
   "outputs": [],
   "source": [
    "\"\"\"with gzip.open('/Users/kirtisoglu/Documents/GitHub/Allocation-of-Primary-Care-Centers-in-Chicago/prepared_data/result.pkl.gz', 'wb') as file:\n",
    "    pickle.dump(districts, file)\"\"\"\n",
    "    \n",
    "handler = DataHandler()\n"
   ]
  },
  {
   "cell_type": "code",
   "execution_count": null,
   "metadata": {},
   "outputs": [],
   "source": [
    "vars(handler)"
   ]
  },
  {
   "cell_type": "code",
   "execution_count": 7,
   "metadata": {},
   "outputs": [],
   "source": [
    "with gzip.open('/Users/kirtisoglu/Documents/GitHub/Allocation-of-Primary-Care-Centers-in-Chicago/prepared_data/result.pkl.gz', 'rb') as file:\n",
    "        districts = pickle.load(file)"
   ]
  },
  {
   "cell_type": "code",
   "execution_count": 11,
   "metadata": {},
   "outputs": [],
   "source": [
    "handler = DataHandler()\n",
    "graph = handler.load_graph()\n",
    "chicago = handler.load_chicago()"
   ]
  },
  {
   "cell_type": "code",
   "execution_count": 12,
   "metadata": {},
   "outputs": [],
   "source": [
    "def plot(data, centers, attribute: str, color=None, fake_center=None):\n",
    "    # Ensure data[attribute] has appropriate type for indexing\n",
    "    data[attribute] = pd.Categorical(data[attribute])\n",
    "    \n",
    "    # Map each cluster to a color using a cycle of the Plotly qualitative palette\n",
    "    colors = px.colors.qualitative.Plotly  # This is an example palette\n",
    "    color_map = {cat: colors[i % len(colors)] for i, cat in enumerate(data[attribute].cat.categories)}\n",
    "    data['color'] = data[attribute].map(color_map)\n",
    "\n",
    "    fig = px.choropleth_mapbox(\n",
    "        data,\n",
    "        geojson=data.geometry.__geo_interface__,\n",
    "        locations=data.index,\n",
    "        color=data['color'],\n",
    "        mapbox_style=\"open-street-map\",\n",
    "        center={\"lat\": data.geometry.centroid.y.mean(), \"lon\": data.geometry.centroid.x.mean()},\n",
    "        height=800,\n",
    "        zoom=10,\n",
    "        opacity=0.5,\n",
    "        color_discrete_map=\"identity\",  # Ensure this uses the direct mapping of assigned colors\n",
    "        hover_data=[data['pop']]  # Show population data on hover\n",
    "    )\n",
    "\n",
    "    # Add cluster centers as markers\n",
    "    for center in centers:\n",
    "        center_point = data.loc[center].geometry.centroid\n",
    "        fig.add_scattermapbox(\n",
    "            lat=[center_point.y],\n",
    "            lon=[center_point.x],\n",
    "            mode='markers',\n",
    "            marker=dict(size=10, color='black'),  # Black markers for centers\n",
    "            name=f'District={center}'\n",
    "        )\n",
    "\n",
    "    return fig.show()"
   ]
  },
  {
   "cell_type": "code",
   "execution_count": null,
   "metadata": {},
   "outputs": [],
   "source": [
    "\n",
    "incomplete_nodes = []\n",
    "incomplete_pop = {}\n",
    "\n",
    "\n",
    "for center in districts.keys():\n",
    "    incomplete_nodes = incomplete_nodes + list(districts[center])\n",
    "    incomplete_pop[center] = sum(graph.nodes[node]['pop'] for node in districts[center])\n",
    "\n",
    "incomplete_subgraph = graph.subgraph(incomplete_nodes)\n",
    "incomplete_centers = list(districts.keys())\n",
    "\n",
    "\n",
    "\"Plot Initial\"\n",
    "\n",
    "incomplete_subgraph_nodes = list(incomplete_subgraph.nodes())\n",
    "incomplete_chicago = chicago.loc[incomplete_subgraph_nodes]\n",
    "\n",
    "assign(incomplete_subgraph, incomplete_chicago, districts, attribute='initial_cluster', question='test_initial_center')\n",
    "plot(incomplete_chicago, incomplete_centers, attribute='initial_cluster')\n",
    "\n"
   ]
  },
  {
   "cell_type": "code",
   "execution_count": null,
   "metadata": {},
   "outputs": [],
   "source": [
    "import random\n",
    "fake_center = random.choice(list(set(open_facilities) - set(incomplete_centers)))\n",
    "\n",
    "districts[fake_center] = {node for node in graph.nodes if node not in incomplete_nodes}\n",
    "\n",
    "assign(graph, chicago, districts, attribute='initial_cluster', question='test_initial_center')\n",
    "plot(chicago, open_facilities, attribute='initial_cluster')"
   ]
  },
  {
   "cell_type": "code",
   "execution_count": null,
   "metadata": {},
   "outputs": [],
   "source": [
    "\"\"\"chicago.plot(\n",
    "    column=\"POP2010\",\n",
    "    legend=True,\n",
    "    scheme=\"quantiles\",\n",
    "    figsize=(15, 10),\n",
    "    missing_kwds={\n",
    "        \"color\": \"lightgrey\",\n",
    "        \"edgecolor\": \"red\",\n",
    "        \"hatch\": \"///\",\n",
    "        \"label\": \"Missing values\",\n",
    "    },\n",
    ");\"\"\"\n"
   ]
  },
  {
   "cell_type": "code",
   "execution_count": null,
   "metadata": {},
   "outputs": [],
   "source": [
    "plot(chicago_test, centers_test, attribute='final_initial_cluster')"
   ]
  },
  {
   "cell_type": "code",
   "execution_count": null,
   "metadata": {},
   "outputs": [],
   "source": [
    "import random\n",
    "node = random.choice(list(graph.nodes()))\n",
    "graph.nodes[node]"
>>>>>>> Stashed changes
   ]
  },
  {
   "cell_type": "code",
   "execution_count": null,
   "metadata": {},
   "outputs": [],
   "source": [
    "partition = Partition(G, assignment, districts, measures, parent, flips, flows, edge_flows, cache)\n",
    "induced_subgraph = partition.get_induced_subgraph(1)  # get the induced subgraph for district 1"
   ]
<<<<<<< Updated upstream
=======
  },
  {
   "cell_type": "code",
   "execution_count": null,
   "metadata": {},
   "outputs": [],
   "source": [
    "yes=0\n",
    "no=0\n",
    "for node in graph.nodes:\n",
    "    if graph.nodes[node].get('is_initial_center', False)==True:\n",
    "        no +=1\n",
    "    else:        \n",
    "        yes +=1\n",
    "\n",
    "\n",
    "print(yes)\n",
    "print(no)\n",
    "print(yes+no)"
   ]
>>>>>>> Stashed changes
  }
 ],
 "metadata": {
  "kernelspec": {
   "display_name": "Python 3",
   "language": "python",
   "name": "python3"
  },
  "language_info": {
   "codemirror_mode": {
    "name": "ipython",
    "version": 3
   },
   "file_extension": ".py",
   "mimetype": "text/x-python",
   "name": "python",
   "nbconvert_exporter": "python",
   "pygments_lexer": "ipython3",
   "version": "3.12.2"
  }
 },
 "nbformat": 4,
 "nbformat_minor": 2
}
