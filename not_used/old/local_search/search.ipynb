{
 "cells": [
  {
   "cell_type": "markdown",
   "metadata": {},
   "source": [
    "NOTES\n",
    "\n",
    "1. Tabu list and granularity for fine tuning. \n",
    "\n",
    "    2. Granularity should be used for access, not population equality.\n",
    "\n",
    "3. Change probablity for priotitizing better moves.\n",
    "\n",
    "    Before:\n",
    "\n",
    "    After: \n",
    "\n",
    "    4. How to pick open facilities? It shouldn't be completely random.\n",
    "\n",
    "5. Optimize the code. 20k iterations last 70 minutes. And\n",
    "\n",
    "    Number of Succesful Moves=19404\n",
    "    \n",
    "    Last Succesful Move=19999\n",
    "\n",
    "6.  If we can define a function of travel time in terms of population, can we find a core radius for every district?\n",
    "\n",
    "7. We should do some collective moves at the beginnning.\n",
    "\n",
    "8. Reorganize all the code to start using Partition class.\n",
    "\n",
    "\n",
    "Facility location, redistricting, our problem. Where is our problem, what kind of questions we answer, comparison to what has been done, and how is ours?\n",
    "\n",
    "Note: Re-organize the code for directed graph. Sort edges in functions."
   ]
  },
  {
   "cell_type": "code",
   "execution_count": 1,
   "metadata": {},
   "outputs": [],
   "source": [
    "import pandas as pd\n",
    "import numpy as np\n",
    "import geopandas as gpd\n",
    "import networkx as nx\n",
    "import plotly.express as px\n",
    "import plotly.io as pio\n",
    "\n",
    "from old_bachelor import multi_old_bachelor_seed as old\n",
    "from data_utils import DataHandler\n",
    "from data_utils import assign, results\n",
    "\n",
    "handler = DataHandler()"
   ]
  },
  {
   "cell_type": "markdown",
   "metadata": {},
   "source": [
    "# Load pre-calculated Objects"
   ]
  },
  {
   "cell_type": "code",
   "execution_count": 2,
   "metadata": {},
   "outputs": [],
   "source": [
    "\"Note: They are loaded in 10 seconds in total.\"\n",
    "\n",
    "graph = handler.load_graph() \n",
    "candidates = handler.load_candidates() \n",
    "chicago = handler.load_chicago()\n",
    "travel_times = handler.load_travel_times()"
   ]
  },
  {
   "cell_type": "markdown",
   "metadata": {},
   "source": [
    "# Initial Solution"
   ]
  },
  {
   "cell_type": "code",
   "execution_count": 3,
   "metadata": {},
   "outputs": [],
   "source": [
    "k_ms = 100\n",
    "#partitioned_tree, spanning_tree, clusterim, populations, total_travel, open_facilities = old.generate_initial_partition_seed(graph, candidates, travel_times, k_ms)\n",
    "#initial_data = partitioned_tree, spanning_tree, clusterim, populations, total_travel, open_facilities \n",
    "#load.cache_data(initial_data, file_path='prepared_data/initial_data.pkl', method='pickle')\n",
    "initial_data = handler.load_initial_data()\n",
    "partitioned_tree, spanning_tree, clusterim, populations, total_travel, open_facilities = initial_data"
   ]
  },
  {
   "cell_type": "code",
   "execution_count": 4,
   "metadata": {},
   "outputs": [],
   "source": [
    "assign(graph, chicago, clusterim, attribute='initial_cluster', question='is_initial_center')\n",
    "#plot.districts(chicago, open_facilities, attribute='initial_cluster')"
   ]
  },
  {
   "cell_type": "markdown",
   "metadata": {},
   "source": [
    "- Consider using partition class properties to reduce computations. (in random_neighbor function and here.)\n",
    "- #flip(self, flips: Dict) \n",
    "- parts: Maps district IDs to the set of nodes in that district.\n",
    "- Also, see Assignment class. It has \"parts\" property. {part: <frozenset of nodes in part>}\n",
    "- from_dict(cls, assignment: Dict) -> \"Assignment\"\n",
    "- self.subgraphs = SubgraphView(self.graph, self.parts)"
   ]
  },
  {
   "cell_type": "markdown",
   "metadata": {},
   "source": [
    "# Search for Initial"
   ]
  },
  {
   "cell_type": "code",
   "execution_count": 5,
   "metadata": {},
   "outputs": [
    {
     "data": {
      "text/plain": [
       "'alpha = 0.01\\nnum_iterations, num_inner_iterations = 1, 20000\\ngranularity = 0.0001\\na, b, c = len(graph.nodes)/1000, 1, 1\\nd_1 = 4\\nd_2 = 2\\nomega = \\nbeta = \\n#k_ms = 100  # random 100 facilities are opened among 1000 candidates , total_moves_test\\nresults, initial_solution, final_solution, energy_pop, energy_access, initial_pop, initial_access, last, final_populations, final_total_travel, total_moves = old.multi_old_bachelor_seed(graph, candidates, travel_times, num_iterations, granularity, a, b, c, alpha, num_inner_iterations, k_ms, d_1, d_2, omega, beta, initial_data=initial_data)\\n4'"
      ]
     },
     "execution_count": 5,
     "metadata": {},
     "output_type": "execute_result"
    }
   ],
   "source": [
    "\"\"\"alpha = 0.01\n",
    "num_iterations, num_inner_iterations = 1, 20000\n",
    "granularity = 0.0001\n",
    "a, b, c = len(graph.nodes)/1000, 1, 1\n",
    "d_1 = 4\n",
    "d_2 = 2\n",
    "omega = \n",
    "beta = \n",
    "#k_ms = 100  # random 100 facilities are opened among 1000 candidates , total_moves_test\n",
    "results, initial_solution, final_solution, energy_pop, energy_access, initial_pop, initial_access, last, final_populations, final_total_travel, total_moves = old.multi_old_bachelor_seed(graph, candidates, travel_times, num_iterations, granularity, a, b, c, alpha, num_inner_iterations, k_ms, d_1, d_2, omega, beta, initial_data=initial_data)\n",
    "4\"\"\""
   ]
  },
  {
   "cell_type": "code",
   "execution_count": 6,
   "metadata": {},
   "outputs": [
    {
     "data": {
      "text/plain": [
       "'results(graph, initial_solution, final_solution, travel_times, initial_pop, initial_access, energy_pop, energy_access, populations, final_populations, total_travel, final_total_travel, last, total_moves)\\n'"
      ]
     },
     "execution_count": 6,
     "metadata": {},
     "output_type": "execute_result"
    }
   ],
   "source": [
    "\"\"\"results(graph, initial_solution, final_solution, travel_times, initial_pop, initial_access, energy_pop, energy_access, populations, final_populations, total_travel, final_total_travel, last, total_moves)\n",
    "\"\"\""
   ]
  },
  {
   "cell_type": "code",
   "execution_count": 7,
   "metadata": {},
   "outputs": [
    {
     "data": {
      "text/plain": [
       "\"assign(graph, chicago, final_solution, attribute='cluster', question='is_center')\""
      ]
     },
     "execution_count": 7,
     "metadata": {},
     "output_type": "execute_result"
    }
   ],
   "source": [
    "\"\"\"assign(graph, chicago, final_solution, attribute='cluster', question='is_center')\"\"\"\n",
    "#plot.districts(chicago, candidates, attribute='cluster')"
   ]
  },
  {
   "cell_type": "markdown",
   "metadata": {},
   "source": [
    "# Analysis on Subgraph"
   ]
  },
  {
   "cell_type": "code",
   "execution_count": 8,
   "metadata": {},
   "outputs": [],
   "source": [
    "\" Define two functions for the following two code boxes in the assignment.py class \"\n",
    "\n",
    "\"Select Districts\"\n",
    "\n",
    "big_cluster = 24550\n",
    "small_cluster = 31545\n",
    "\n",
    "test_nodes = clusterim[big_cluster] + clusterim[small_cluster]\n",
    "test_subgraph = graph.subgraph(test_nodes)\n",
    "\n",
    "centers_test = [big_cluster, small_cluster]\n",
    "test_populations = {small_cluster:populations[small_cluster], big_cluster:populations[big_cluster]}\n",
    "test_total_travel = {small_cluster: total_travel[small_cluster], big_cluster: total_travel[big_cluster]}\n",
    "test_initial_solution = {}\n",
    "test_initial_solution[big_cluster] = clusterim[big_cluster]\n",
    "test_initial_solution[small_cluster] = clusterim[small_cluster]\n"
   ]
  },
  {
   "cell_type": "code",
   "execution_count": 9,
   "metadata": {},
   "outputs": [],
   "source": [
    "\"Plot Initial\"\n",
    "\n",
    "subgraph_nodes = list(test_subgraph.nodes())\n",
    "chicago_test = chicago.loc[subgraph_nodes]\n",
    "\n",
    "assign(test_subgraph, chicago_test, test_initial_solution, attribute='test_initial_cluster', question='is_test_initial_center')\n",
    "\n",
    "\n",
    "def plot(data, centers, attribute: str, color=None, fake_center=None):\n",
    "    # Ensure data[attribute] has appropriate type for indexing\n",
    "    data[attribute] = pd.Categorical(data[attribute])\n",
    "    \n",
    "    # Map each cluster to a color using a cycle of the Plotly qualitative palette\n",
    "    colors = px.colors.qualitative.Plotly  # This is an example palette\n",
    "    color_map = {cat: colors[i % len(colors)] for i, cat in enumerate(data[attribute].cat.categories)}\n",
    "    data['color'] = data[attribute].map(color_map)\n",
    "\n",
    "    fig = px.choropleth_mapbox(\n",
    "        data,\n",
    "        geojson=data.geometry.__geo_interface__,\n",
    "        locations=data.index,\n",
    "        color=data['color'],\n",
    "        mapbox_style=\"open-street-map\",\n",
    "        center={\"lat\": data.geometry.centroid.y.mean(), \"lon\": data.geometry.centroid.x.mean()},\n",
    "        height=800,\n",
    "        zoom=10,\n",
    "        opacity=0.5,\n",
    "        color_discrete_map=\"identity\",  # Ensure this uses the direct mapping of assigned colors\n",
    "        hover_data=[data['pop']]  # Show population data on hover\n",
    "    )\n",
    "\n",
    "    # Add cluster centers as markers\n",
    "    for center in centers:\n",
    "        center_point = data.loc[center].geometry.centroid\n",
    "        fig.add_scattermapbox(\n",
    "            lat=[center_point.y],\n",
    "            lon=[center_point.x],\n",
    "            mode='markers',\n",
    "            marker=dict(size=10, color='black'),  # Black markers for centers\n",
    "            name=f'District={center}'\n",
    "        )\n",
    "\n",
    "    return fig.show()\n",
    "\n",
    "#plot(chicago_test, centers_test, attribute='test_initial_cluster')"
   ]
  },
  {
   "cell_type": "code",
   "execution_count": null,
   "metadata": {},
   "outputs": [],
   "source": []
  },
  {
   "cell_type": "code",
   "execution_count": null,
   "metadata": {},
   "outputs": [],
   "source": [
    "initial_test = partitioned_tree, spanning_tree, test_initial_solution, test_populations, test_total_travel, centers_test\n",
    "\n",
    "\n",
    "alpha_test = 0\n",
    "num_iterations_test = 1\n",
    "num_inner_iterations_test = 30000\n",
    "granularity_test = 0\n",
    "a_test = len(test_subgraph.nodes)/100\n",
    "b_test = 1\n",
    "c_test = 1\n",
    "k_test = 2  # random 100 facilities are opened among 1000 candidates \n",
    "d_1 = 2\n",
    "d_2 = 1\n",
    "omega = 1\n",
    "beta = 1\n",
    "\n",
    "results_test, initial_test, final_test, energy_pop_test, energy_access_test, initial_pop_test, initial_access_test, last_test, final_populations_test, final_total_travel_test, total_moves_test, tabu_set = old(test_subgraph, centers_test, travel_times, num_iterations_test, granularity_test, a_test, b_test, c_test, alpha_test, num_inner_iterations_test, k_test, d_1, d_2, omega, beta, initial_data=initial_test)\n",
    "\n",
    "\n",
    "\"Not: Gerrychain hareketli plotu kullan\"\n",
    "#assignment = {node: center for center, nodes in initial_solution.items() for node in nodes}\n",
    "#from gerrychain import Partition\n",
    "#partition = Partition(graph, assignment=assignment)"
   ]
  },
  {
   "cell_type": "markdown",
   "metadata": {},
   "source": [
    "# For the first two iterations:\n",
    "\n",
    "------ SELECTING NEW MIGRATING NODE ------- Inner Iteration=0\n",
    "\n",
    "Travel time to Center of Origin=170 Travel Time to Center of Destionation=30\n",
    "\n",
    "Current Population Energy=0.9978102411776036 Current Access Energy=264725.0094401963\n",
    "\n",
    "Migrating Node=25933 Neighbor Population Energy=0.9978102411776036 Neighbor Access Energy=264595.0241732923\n",
    "\n",
    "Worsening Access Energy=267372.25953459827\n",
    "\n",
    "Threshold=0\n",
    "\n",
    "Both of the conditions are satisfied.\n",
    "\n",
    "------ SELECTING NEW MIGRATING NODE ------- Inner Iteration=1\n",
    "\n",
    "Travel time to Center of Origin=180 Travel Time to Center of Destionation=10\n",
    "\n",
    "Current Population Energy=0.9978102411776036 Current Access Energy=264595.0241732923\n",
    "\n",
    "Migrating Node=31537 Neighbor Population Energy=0.9975263835524781 Neighbor Access Energy=264490.0306041486\n",
    "\n",
    "Worsening Access Energy=267240.9744150252\n",
    "\n",
    "Threshold=0\n",
    "\n",
    "Both of the conditions are satisfied.\n",
    "\n",
    "\n",
    "# For the last iteration:\n",
    "\n",
    "Migrating Node=24189 Neighbor Population Energy=0.14214170578157156 Neighbor Access Energy=4119.40813810111\n",
    "\n",
    "Worsening Access Energy=880.5203619292987\n",
    "\n",
    "Threshold=0.0\n",
    "\n",
    "None of the conditions are satisfied."
   ]
  },
  {
   "cell_type": "code",
   "execution_count": 11,
   "metadata": {},
   "outputs": [],
   "source": [
    "assign(test_subgraph, chicago_test, final_test, attribute='final_initial_cluster', question='is_final_initial_center')"
   ]
  },
  {
   "cell_type": "markdown",
   "metadata": {},
   "source": [
    "Question 1: Can we remove the selected random endpoints to fasten the algorithm? Define a tabu list. Once we select a valid endpoint, restart the list? Does this provide a significant impact? After a certain number of iterations, it would be useful for fine tunning.\n",
    "\n",
    "Question 2: Because of the population equality condition, it does not move purple blocks in the left upper side, next to the red highway, to the orange cluster. I think granularity property of old bachelor might solve this issue, since it provides an ordering of good solutions implicitly. Granularity is zero right now. All good solutions are the same.\n",
    "\n",
    "Final Comment: The search will ignore some good solutions in each iteration to obtain the best solution. A tabu list can help us a lot for not producing the same solution again and again."
   ]
  },
  {
   "cell_type": "markdown",
   "metadata": {},
   "source": [
    "NOTES\n",
    "\n",
    "1. Tabu list and granularity for fine tuning. (Granularity should be used for access, not population equality.)\n",
    "\n",
    "2. Change probablity for priotitizing better moves.\n",
    "\n",
    "    Before:\n",
    "\n",
    "    After: \n",
    "\n",
    "3. How to pick open facilities? It shouldn't be completely random.\n",
    "\n",
    "4. Optimize the code. 20k iterations last 70 minutes. And\n",
    "\n",
    "    Number of Succesful Moves=19404\n",
    "    \n",
    "    Last Succesful Move=19999\n",
    "\n",
    "5. Should we do some collective moves at the beginnning to fasten the search? \n",
    "\n",
    "    - If we can define a function of travel time in terms of population, we can find a \n",
    "\n",
    "6. Start with a better initial solution (from recom?).\n",
    "\n",
    "7. nx.boundary yi surekli hesaplamasak? Input ve return olarak?\n",
    "\n",
    "8. Initial solution: herkesi en yakin center a assign et. Travel time anlaminda en iyi assignment olacak. Onun uzerinden population equality gelistir. \n"
   ]
  },
  {
   "cell_type": "code",
   "execution_count": null,
   "metadata": {},
   "outputs": [],
   "source": [
    "results(test_subgraph, initial_test, final_test, travel_times, initial_pop_test, initial_access_test, \n",
    "               energy_pop_test, energy_access_test, test_populations, final_populations_test, test_total_travel, final_total_travel_test, last_test, total_moves_test)\n",
    "plot(chicago_test, centers_test, attribute='final_initial_cluster')"
   ]
  },
  {
   "cell_type": "code",
   "execution_count": 13,
   "metadata": {},
   "outputs": [
    {
     "data": {
      "text/plain": [
       "{31545: 84913, 24550: 112369}"
      ]
     },
     "execution_count": 13,
     "metadata": {},
     "output_type": "execute_result"
    }
   ],
   "source": [
    "final_populations_test"
   ]
  },
  {
   "cell_type": "code",
   "execution_count": 14,
   "metadata": {},
   "outputs": [
    {
     "data": {
      "text/plain": [
       "{24550: 112369, 31545: 84913}"
      ]
     },
     "execution_count": 14,
     "metadata": {},
     "output_type": "execute_result"
    }
   ],
   "source": [
    "po = {}\n",
    "\n",
    "for center in final_test.keys():\n",
    "    po[center] = sum(graph.nodes[node]['pop'] for node in final_test[center])\n",
    "\n",
    "po"
   ]
  },
  {
   "cell_type": "code",
   "execution_count": 15,
   "metadata": {},
   "outputs": [
    {
     "data": {
      "text/plain": [
       "{31545: 84913, 24550: 112369}"
      ]
     },
     "execution_count": 15,
     "metadata": {},
     "output_type": "execute_result"
    }
   ],
   "source": [
    "test_populations"
   ]
  },
  {
   "cell_type": "code",
   "execution_count": 16,
   "metadata": {},
   "outputs": [],
   "source": [
    "a = handler.load_initial_data()\n",
    "par, sp, c, populat, total_tra, open_faci = initial_data"
   ]
  },
  {
   "cell_type": "code",
   "execution_count": 17,
   "metadata": {},
   "outputs": [
    {
     "data": {
      "text/plain": [
       "216"
      ]
     },
     "execution_count": 17,
     "metadata": {},
     "output_type": "execute_result"
    }
   ],
   "source": [
    "populat[small_cluster]"
   ]
  },
  {
   "cell_type": "code",
   "execution_count": 18,
   "metadata": {},
   "outputs": [
    {
     "data": {
      "text/plain": [
       "197066"
      ]
     },
     "execution_count": 18,
     "metadata": {},
     "output_type": "execute_result"
    }
   ],
   "source": [
    "populat[big_cluster]"
   ]
  },
  {
   "cell_type": "code",
   "execution_count": 19,
   "metadata": {},
   "outputs": [
    {
     "name": "stdout",
     "output_type": "stream",
     "text": [
      "50\n",
      "529600\n"
     ]
    }
   ],
   "source": [
    "print(total_tra[small_cluster])\n",
    "print(total_tra[big_cluster])"
   ]
  },
  {
   "cell_type": "markdown",
   "metadata": {},
   "source": [
    "final: {31545: 173270, 24550: 238430}"
   ]
  },
  {
   "cell_type": "markdown",
   "metadata": {},
   "source": [
    "# New Initial Solution: Assign nodes to their closest facilities"
   ]
  },
  {
   "cell_type": "code",
   "execution_count": 20,
   "metadata": {},
   "outputs": [],
   "source": [
    "\"\"\"A new initial solution: Assign nodes to their closest facilities\"\"\"\n",
    "\n",
    "closest = {big_cluster:[], small_cluster:[]} \n",
    "\n",
    "for c in [small_cluster, big_cluster]:\n",
    "    for node in clusterim[c]:\n",
    "        target_cluster = small_cluster if travel_times[(node, small_cluster)] < travel_times[(node, big_cluster)] else big_cluster\n",
    "        closest[target_cluster].append(node)"
   ]
  },
  {
   "cell_type": "code",
   "execution_count": 21,
   "metadata": {},
   "outputs": [],
   "source": [
    "\n",
    "test_subgraph = graph.subgraph(test_nodes)\n",
    "subgraph_nodes = list(test_subgraph.nodes())\n",
    "chicago_test = chicago.loc[subgraph_nodes]\n",
    "\n",
    "assign(test_subgraph, chicago_test, test_initial_solution, attribute='test_initial_cluster', question='is_test_initial_center')"
   ]
  },
  {
   "cell_type": "code",
   "execution_count": null,
   "metadata": {},
   "outputs": [],
   "source": [
    "\" Define two functions for the following two code boxes in the assignment.py class \"\n",
    "\n",
    "\"Select Districts\"\n",
    "\n",
    "closest_nodes = closest[big_cluster] + closest[small_cluster] + [small_cluster, big_cluster]\n",
    "closest_subgraph = graph.subgraph(closest_nodes)\n",
    "chicago_closest = chicago.loc[subgraph_nodes]\n",
    "closest_subgraph_nodes = list(closest_subgraph.nodes)\n",
    "chicago_closest = chicago.loc[closest_subgraph_nodes]\n",
    "\n",
    "centers_closest = [big_cluster, small_cluster]\n",
    "closest_populations = {small_cluster: sum(graph.nodes[node]['pop'] for node in closest[small_cluster]), \n",
    "                       big_cluster : sum(graph.nodes[node]['pop'] for node in closest[big_cluster])}\n",
    "\n",
    "closest_travel = {}\n",
    "## \n",
    "\n",
    "closest_total_travel = {small_cluster: sum(travel_times[(node, small_cluster)] for node in closest[small_cluster]), \n",
    "                        big_cluster: sum(travel_times[(node, big_cluster)] for node in closest[big_cluster])}\n",
    "\n",
    "\n",
    "\n",
    "\"Plot Function\"\n",
    "\n",
    "assign(closest_subgraph, chicago_closest, closest, attribute='closest_initial_cluster', question='is_closest_initial_center')\n",
    "plot(chicago_closest, centers_closest, attribute='closest_initial_cluster')\n",
    "\n",
    "#results(closest_subgraph, initial_test, final_test, travel_times, initial_pop_test, initial_access_test, \n",
    "               #energy_pop_test, energy_access_test, test_populations, final_populations_test, test_total_travel, final_total_travel_test, last_test, total_moves_test)"
   ]
  },
  {
   "cell_type": "code",
   "execution_count": 23,
   "metadata": {},
   "outputs": [
    {
     "data": {
      "text/plain": [
       "{31545: 103775, 24550: 93507}"
      ]
     },
     "execution_count": 23,
     "metadata": {},
     "output_type": "execute_result"
    }
   ],
   "source": [
    "\"Total populations of small and big clusters\"\n",
    "\n",
    "closest_populations "
   ]
  },
  {
   "cell_type": "code",
   "execution_count": 24,
   "metadata": {},
   "outputs": [
    {
     "data": {
      "text/plain": [
       "{31545: 230490, 24550: 151110}"
      ]
     },
     "execution_count": 24,
     "metadata": {},
     "output_type": "execute_result"
    }
   ],
   "source": [
    "\"Total travel times in small and big clusters\"\n",
    "\n",
    "closest_total_travel"
   ]
  },
  {
   "cell_type": "code",
   "execution_count": 25,
   "metadata": {},
   "outputs": [
    {
     "data": {
      "text/plain": [
       "(122.53588516746412, 129.81958762886597)"
      ]
     },
     "execution_count": 25,
     "metadata": {},
     "output_type": "execute_result"
    }
   ],
   "source": [
    "\"Average travel time in small (red) and big (blue) clusters\"\n",
    "\n",
    "closest_total_travel[small_cluster] / len(closest[small_cluster]), closest_total_travel[big_cluster] / len(closest[big_cluster])"
   ]
  },
  {
   "cell_type": "code",
   "execution_count": 26,
   "metadata": {},
   "outputs": [
    {
     "data": {
      "text/plain": [
       "(240, 220)"
      ]
     },
     "execution_count": 26,
     "metadata": {},
     "output_type": "execute_result"
    }
   ],
   "source": [
    "\"Maximum travel times in small and big clusters\"\n",
    "\n",
    "furthest_small = max(travel_times[(node, small_cluster)] for node in closest[small_cluster])\n",
    "furthest_big = max(travel_times[(node, big_cluster)] for node in closest[big_cluster])\n",
    "\n",
    "furthest_small, furthest_big"
   ]
  },
  {
   "cell_type": "code",
   "execution_count": 27,
   "metadata": {},
   "outputs": [
    {
     "data": {
      "text/plain": [
       "(240, 300)"
      ]
     },
     "execution_count": 27,
     "metadata": {},
     "output_type": "execute_result"
    }
   ],
   "source": [
    "\"Maximum travel times in small and big clusters in the previous clustering\"\n",
    "\n",
    "a_furthest_small = max(travel_times[(node, small_cluster)] for node in clusterim[small_cluster])\n",
    "a_furthest_big = max(travel_times[(node, big_cluster)] for node in clusterim[big_cluster])\n",
    "\n",
    "a_furthest_small, a_furthest_big"
   ]
  },
  {
   "cell_type": "markdown",
   "metadata": {},
   "source": [
    "1. Results are almost perfect. We may have similar results but bad population distribution. \n",
    "\n",
    "2. We should minimize maximum travel time and number of blocks that are not assigned to the closest facility, \n",
    "\n",
    "3. while we improve population balance (or a function of numbers of D-N teams).\n",
    "\n",
    "4. Total travel time does not tell us anything meaningful. We should either use max travel time or average travel time.\n",
    "\n",
    "5. How do we design and integrate selection of candidates?\n",
    "\n",
    "# A Better and More Natural Algorithm\n",
    "\n",
    "1. Assign every block to the closest facility for any set of candidates. (cheap and easy)\n",
    "\n",
    "    Districts are identified and travel time is optimized now. We want to preserve this. \n",
    "\n",
    "2. Calculate the number of D-N teams according to the total populations in districts. (cheap and easy)\n",
    "\n",
    "3. Calculate objective value for the selected candidates. Find a appropriate objective function and maybe some constraints. (cheap and easy)\n",
    "\n",
    "4. Pick the set of candidates giving the best objective value. If some constraints exist, reject the candidates if constraints fail. (this is the search part)\n",
    "\n",
    "5. If necessary, we can make a few steps of flips at the end in order to obtain a property we want.\n",
    "\n",
    "# Thoughts\n",
    "\n",
    "1. We need to design a meaningful neighborhood for a set of constraints and objective function. \n",
    "\n",
    "2. is the connectivity guarenteed? Probably yes. Compactness might be a problem in terms of distance. But we should define compactness in terms of travel time.\n",
    "\n",
    "    Otherwise, what is the point of travel time? We can still force compactness leaving everything else the same.\n",
    "\n",
    "3. Orginaze a literature section in the draft, so we can understand if we fill a gap in the literature.\n",
    "\n",
    "# Components\n",
    "\n",
    "\n",
    "\n",
    "# Constraints and Objective Value\n",
    "\n",
    "1. Max travel time from a block to its center should not exceed a constant.\n",
    "\n",
    "2. D-N teams "
   ]
  },
  {
   "cell_type": "markdown",
   "metadata": {},
   "source": [
    "- Generate all_locations"
   ]
  },
  {
   "cell_type": "code",
   "execution_count": 28,
   "metadata": {},
   "outputs": [
    {
     "ename": "NameError",
     "evalue": "name 'all_locations' is not defined",
     "output_type": "error",
     "traceback": [
      "\u001b[0;31m---------------------------------------------------------------------------\u001b[0m",
      "\u001b[0;31mNameError\u001b[0m                                 Traceback (most recent call last)",
      "Cell \u001b[0;32mIn[28], line 4\u001b[0m\n\u001b[1;32m      1\u001b[0m \u001b[38;5;28;01mimport\u001b[39;00m \u001b[38;5;21;01mDistrict\u001b[39;00m\n\u001b[1;32m      2\u001b[0m \u001b[38;5;28;01mimport\u001b[39;00m \u001b[38;5;21;01mclosest\u001b[39;00m\n\u001b[0;32m----> 4\u001b[0m centers \u001b[38;5;241m=\u001b[39m closest\u001b[38;5;241m.\u001b[39mselect_candidates(\u001b[43mall_locations\u001b[49m)\n",
      "\u001b[0;31mNameError\u001b[0m: name 'all_locations' is not defined"
     ]
    }
   ],
   "source": [
    "import District\n",
    "import closest\n",
    "\n",
    "centers = closest.select_candidates(all_locations)"
   ]
  }
 ],
 "metadata": {
  "kernelspec": {
   "display_name": "Python 3",
   "language": "python",
   "name": "python3"
  },
  "language_info": {
   "codemirror_mode": {
    "name": "ipython",
    "version": 3
   },
   "file_extension": ".py",
   "mimetype": "text/x-python",
   "name": "python",
   "nbconvert_exporter": "python",
   "pygments_lexer": "ipython3",
   "version": "3.12.2"
  }
 },
 "nbformat": 4,
 "nbformat_minor": 2
}
